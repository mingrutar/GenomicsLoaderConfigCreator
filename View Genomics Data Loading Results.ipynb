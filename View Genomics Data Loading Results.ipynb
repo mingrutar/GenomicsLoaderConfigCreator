{
 "cells": [
  {
   "cell_type": "markdown",
   "metadata": {},
   "source": [
    "### GenomicsDB Loading Testing"
   ]
  },
  {
   "cell_type": "code",
   "execution_count": 1,
   "metadata": {
    "collapsed": false
   },
   "outputs": [],
   "source": [
    "%matplotlib inline\n",
    "%config InlineBackend.figure_format = 'retina'\n",
    "\n",
    "import pandas as pd\n",
    "import result_handler as rh\n",
    "import matplotlib.pyplot as plt\n",
    "\n",
    "data_preparer = rh.TimeResultHandler()"
   ]
  },
  {
   "cell_type": "code",
   "execution_count": 7,
   "metadata": {
    "collapsed": false,
    "scrolled": true
   },
   "outputs": [
    {
     "name": "stdout",
     "output_type": "stream",
     "text": [
      "==== run is 6 user loader config ====\n"
     ]
    },
    {
     "data": {
      "text/html": [
       "<div>\n",
       "<table border=\"1\" class=\"dataframe\">\n",
       "  <thead>\n",
       "    <tr style=\"text-align: right;\">\n",
       "      <th></th>\n",
       "      <th>RUN_1</th>\n",
       "      <th>RUN_2</th>\n",
       "      <th>RUN_3</th>\n",
       "      <th>RUN_4</th>\n",
       "    </tr>\n",
       "  </thead>\n",
       "  <tbody>\n",
       "    <tr>\n",
       "      <th>column_partitions</th>\n",
       "      <td>20</td>\n",
       "      <td>20</td>\n",
       "      <td>20</td>\n",
       "      <td>20</td>\n",
       "    </tr>\n",
       "    <tr>\n",
       "      <th>size_per_column_partition</th>\n",
       "      <td>-</td>\n",
       "      <td>-</td>\n",
       "      <td>-</td>\n",
       "      <td>-</td>\n",
       "    </tr>\n",
       "    <tr>\n",
       "      <th>num_parallel_vcf_files</th>\n",
       "      <td>-</td>\n",
       "      <td>-</td>\n",
       "      <td>-</td>\n",
       "      <td>-</td>\n",
       "    </tr>\n",
       "    <tr>\n",
       "      <th>compress_tiledb_array</th>\n",
       "      <td>-</td>\n",
       "      <td>-</td>\n",
       "      <td>-</td>\n",
       "      <td>-</td>\n",
       "    </tr>\n",
       "    <tr>\n",
       "      <th>num_cells_per_tile</th>\n",
       "      <td>-</td>\n",
       "      <td>-</td>\n",
       "      <td>-</td>\n",
       "      <td>-</td>\n",
       "    </tr>\n",
       "    <tr>\n",
       "      <th>segment_size</th>\n",
       "      <td>-</td>\n",
       "      <td>1</td>\n",
       "      <td>[100, KB]</td>\n",
       "      <td>[10, KB]</td>\n",
       "    </tr>\n",
       "    <tr>\n",
       "      <th>do_ping_pong_buffering</th>\n",
       "      <td>False</td>\n",
       "      <td>-</td>\n",
       "      <td>-</td>\n",
       "      <td>-</td>\n",
       "    </tr>\n",
       "  </tbody>\n",
       "</table>\n",
       "</div>"
      ],
      "text/plain": [
       "                           RUN_1 RUN_2      RUN_3     RUN_4\n",
       "column_partitions             20    20         20        20\n",
       "size_per_column_partition      -     -          -         -\n",
       "num_parallel_vcf_files         -     -          -         -\n",
       "compress_tiledb_array          -     -          -         -\n",
       "num_cells_per_tile             -     -          -         -\n",
       "segment_size                   -     1  [100, KB]  [10, KB]\n",
       "do_ping_pong_buffering     False     -          -         -"
      ]
     },
     "execution_count": 7,
     "metadata": {},
     "output_type": "execute_result"
    }
   ],
   "source": [
    "runid, lc_config2, col_title2 = data_preparer.get_run_setting2()\n",
    "print(\"==== run is %d user loader config ====\" % runid)\n",
    "pd.DataFrame.from_items(pd.Series(lc_config2),orient='index', columns=col_title2)"
   ]
  },
  {
   "cell_type": "code",
   "execution_count": 4,
   "metadata": {
    "collapsed": false,
    "scrolled": true
   },
   "outputs": [
    {
     "name": "stdout",
     "output_type": "stream",
     "text": [
      "==== command time result for run 6 ====\n"
     ]
    },
    {
     "data": {
      "text/html": [
       "<div>\n",
       "<table border=\"1\" class=\"dataframe\">\n",
       "  <thead>\n",
       "    <tr style=\"text-align: right;\">\n",
       "      <th></th>\n",
       "      <th>RUN_1</th>\n",
       "      <th>RUN_2</th>\n",
       "      <th>RUN_3</th>\n",
       "      <th>RUN_4</th>\n",
       "    </tr>\n",
       "  </thead>\n",
       "  <tbody>\n",
       "    <tr>\n",
       "      <th>Wall Clock (sec)</th>\n",
       "      <td>629.33</td>\n",
       "      <td>633.14</td>\n",
       "      <td>639.29</td>\n",
       "      <td>659.96</td>\n",
       "    </tr>\n",
       "    <tr>\n",
       "      <th>CPU %</th>\n",
       "      <td>95%</td>\n",
       "      <td>95%</td>\n",
       "      <td>94%</td>\n",
       "      <td>94%</td>\n",
       "    </tr>\n",
       "    <tr>\n",
       "      <th>Major Page Fault</th>\n",
       "      <td>34</td>\n",
       "      <td>32</td>\n",
       "      <td>34</td>\n",
       "      <td>33</td>\n",
       "    </tr>\n",
       "    <tr>\n",
       "      <th>Minor Page Fault</th>\n",
       "      <td>2872840</td>\n",
       "      <td>2838514</td>\n",
       "      <td>2944321</td>\n",
       "      <td>2911310</td>\n",
       "    </tr>\n",
       "    <tr>\n",
       "      <th>File System Input</th>\n",
       "      <td>3205392</td>\n",
       "      <td>3205984</td>\n",
       "      <td>3205672</td>\n",
       "      <td>3206856</td>\n",
       "    </tr>\n",
       "    <tr>\n",
       "      <th>File System Output</th>\n",
       "      <td>2622296</td>\n",
       "      <td>2622488</td>\n",
       "      <td>2621640</td>\n",
       "      <td>2621784</td>\n",
       "    </tr>\n",
       "    <tr>\n",
       "      <th>Involunteer Context Switch</th>\n",
       "      <td>11663</td>\n",
       "      <td>11448</td>\n",
       "      <td>15313</td>\n",
       "      <td>20030</td>\n",
       "    </tr>\n",
       "    <tr>\n",
       "      <th>Volunteer Context Switch</th>\n",
       "      <td>4522</td>\n",
       "      <td>4587</td>\n",
       "      <td>4496</td>\n",
       "      <td>4527</td>\n",
       "    </tr>\n",
       "    <tr>\n",
       "      <th>Exit Code</th>\n",
       "      <td>0</td>\n",
       "      <td>0</td>\n",
       "      <td>0</td>\n",
       "      <td>0</td>\n",
       "    </tr>\n",
       "  </tbody>\n",
       "</table>\n",
       "</div>"
      ],
      "text/plain": [
       "                              RUN_1    RUN_2    RUN_3    RUN_4\n",
       "Wall Clock (sec)             629.33   633.14   639.29   659.96\n",
       "CPU %                           95%      95%      94%      94%\n",
       "Major Page Fault                 34       32       34       33\n",
       "Minor Page Fault            2872840  2838514  2944321  2911310\n",
       "File System Input           3205392  3205984  3205672  3206856\n",
       "File System Output          2622296  2622488  2621640  2621784\n",
       "Involunteer Context Switch    11663    11448    15313    20030\n",
       "Volunteer Context Switch       4522     4587     4496     4527\n",
       "Exit Code                         0        0        0        0"
      ]
     },
     "execution_count": 4,
     "metadata": {},
     "output_type": "execute_result"
    }
   ],
   "source": [
    "time_results, col_header = data_preparer.get_time_result(runid)\n",
    "print(\"==== command /usr/bin/time result for run %d ====\" % runid)\n",
    "pd.DataFrame.from_items(pd.Series(time_results),orient='index', columns=col_header)"
   ]
  },
  {
   "cell_type": "code",
   "execution_count": 17,
   "metadata": {
    "collapsed": false
   },
   "outputs": [
    {
     "data": {
      "text/plain": [
       "'C:\\\\Users\\\\mrutarx\\\\myprojects\\\\dev\\\\stats\\\\6-1702221354_2-23_pid_49923.cvs'"
      ]
     },
     "execution_count": 17,
     "metadata": {},
     "output_type": "execute_result"
    }
   ],
   "source": [
    "import pandas as pd\n",
    "import os, os.path\n",
    "stat_files = data_preparer.get_pidstats(runid)\n",
    "fn = os.path.basename(stat_files[0][0])\n",
    "fn = os.path.join(os.getcwd(), \"stats\", fn)\n",
    "fn"
   ]
  },
  {
   "cell_type": "code",
   "execution_count": 25,
   "metadata": {
    "collapsed": false,
    "scrolled": true
   },
   "outputs": [
    {
     "data": {
      "text/html": [
       "<div>\n",
       "<table border=\"1\" class=\"dataframe\">\n",
       "  <thead>\n",
       "    <tr style=\"text-align: right;\">\n",
       "      <th></th>\n",
       "      <th>rs</th>\n",
       "      <th>ws</th>\n",
       "      <th>ccws</th>\n",
       "    </tr>\n",
       "    <tr>\n",
       "      <th>ts</th>\n",
       "      <th></th>\n",
       "      <th></th>\n",
       "      <th></th>\n",
       "    </tr>\n",
       "  </thead>\n",
       "  <tbody>\n",
       "    <tr>\n",
       "      <th>1.487731e+09</th>\n",
       "      <td>11176.0</td>\n",
       "      <td>0.0</td>\n",
       "      <td>0.0</td>\n",
       "    </tr>\n",
       "    <tr>\n",
       "      <th>1.487731e+09</th>\n",
       "      <td>12644.0</td>\n",
       "      <td>0.0</td>\n",
       "      <td>0.0</td>\n",
       "    </tr>\n",
       "    <tr>\n",
       "      <th>1.487731e+09</th>\n",
       "      <td>11908.0</td>\n",
       "      <td>0.0</td>\n",
       "      <td>0.0</td>\n",
       "    </tr>\n",
       "    <tr>\n",
       "      <th>1.487731e+09</th>\n",
       "      <td>11964.0</td>\n",
       "      <td>0.0</td>\n",
       "      <td>0.0</td>\n",
       "    </tr>\n",
       "    <tr>\n",
       "      <th>1.487731e+09</th>\n",
       "      <td>12508.0</td>\n",
       "      <td>0.0</td>\n",
       "      <td>0.0</td>\n",
       "    </tr>\n",
       "  </tbody>\n",
       "</table>\n",
       "</div>"
      ],
      "text/plain": [
       "                   rs   ws  ccws\n",
       "ts                              \n",
       "1.487731e+09  11176.0  0.0   0.0\n",
       "1.487731e+09  12644.0  0.0   0.0\n",
       "1.487731e+09  11908.0  0.0   0.0\n",
       "1.487731e+09  11964.0  0.0   0.0\n",
       "1.487731e+09  12508.0  0.0   0.0"
      ]
     },
     "execution_count": 25,
     "metadata": {},
     "output_type": "execute_result"
    }
   ],
   "source": [
    "proc_stat = pd.DataFrame.from_csv(fn)\n",
    "proc_stat.head()\n"
   ]
  },
  {
   "cell_type": "code",
   "execution_count": 26,
   "metadata": {
    "collapsed": false
   },
   "outputs": [
    {
     "data": {
      "text/plain": [
       "<matplotlib.axes._subplots.AxesSubplot at 0x18f6df85c0>"
      ]
     },
     "execution_count": 26,
     "metadata": {},
     "output_type": "execute_result"
    },
    {
     "data": {
      "text/plain": [
       "<matplotlib.figure.Figure at 0x18f6dfd780>"
      ]
     },
     "metadata": {},
     "output_type": "display_data"
    },
    {
     "data": {
      "image/png": "[encoded data removed]",
      "text/plain": [
       "<matplotlib.figure.Figure at 0x18f6dfdf60>"
      ]
     },
     "metadata": {
      "image/png": {
       "height": 263,
       "width": 389
      }
     },
     "output_type": "display_data"
    }
   ],
   "source": [
    "plt.figure()\n",
    "proc_stat.plot()"
   ]
  },
  {
   "cell_type": "code",
   "execution_count": 9,
   "metadata": {
    "collapsed": false
   },
   "outputs": [
    {
     "name": "stdout",
     "output_type": "stream",
     "text": [
      "Object `matplotlib.axes` not found.\n"
     ]
    }
   ],
   "source": [
    "?matplotlib.axes"
   ]
  },
  {
   "cell_type": "code",
   "execution_count": null,
   "metadata": {
    "collapsed": true
   },
   "outputs": [],
   "source": []
  }
 ],
 "metadata": {
  "kernelspec": {
   "display_name": "Python 3",
   "language": "python",
   "name": "python3"
  },
  "language_info": {
   "codemirror_mode": {
    "name": "ipython",
    "version": 3
   },
   "file_extension": ".py",
   "mimetype": "text/x-python",
   "name": "python",
   "nbconvert_exporter": "python",
   "pygments_lexer": "ipython3",
   "version": "3.6.0"
  }
 },
 "nbformat": 4,
 "nbformat_minor": 2
}
