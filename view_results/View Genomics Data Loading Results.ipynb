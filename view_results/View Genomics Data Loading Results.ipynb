{
 "cells": [
  {
   "cell_type": "markdown",
   "metadata": {},
   "source": [
    "### GenomicsDB Loading Testing"
   ]
  },
  {
   "cell_type": "code",
   "execution_count": 1,
   "metadata": {
    "collapsed": false
   },
   "outputs": [
    {
     "name": "stdout",
     "output_type": "stream",
     "text": [
      "WARN, no genomics loader db at C:\\Users\\mrutarx\\myprojects\\dev\\view_results\\.\\genomicsdb_loader.db, nothing changed\n"
     ]
    }
   ],
   "source": [
    "%matplotlib inline\n",
    "%config InlineBackend.figure_format = 'retina'\n",
    "\n",
    "import pandas as pd\n",
    "import result_handler as rh\n",
    "import matplotlib.pyplot as plt\n",
    "\n",
    "data_preparer = rh.TimeResultHandler()"
   ]
  },
  {
   "cell_type": "code",
   "execution_count": 3,
   "metadata": {
    "collapsed": false
   },
   "outputs": [],
   "source": [
    "data_preparer.setResultPath(\"run_6\")"
   ]
  },
  {
   "cell_type": "code",
   "execution_count": null,
   "metadata": {
    "collapsed": true
   },
   "outputs": [],
   "source": [
    "#plt.style.use('ggplot')"
   ]
  },
  {
   "cell_type": "code",
   "execution_count": 4,
   "metadata": {
    "collapsed": false,
    "scrolled": false
   },
   "outputs": [
    {
     "name": "stdout",
     "output_type": "stream",
     "text": [
      "==== run is 6 user loader config ====\n"
     ]
    },
    {
     "data": {
      "text/html": [
       "<div>\n",
       "<table border=\"1\" class=\"dataframe\">\n",
       "  <thead>\n",
       "    <tr style=\"text-align: right;\">\n",
       "      <th></th>\n",
       "      <th>LOAD_1</th>\n",
       "      <th>LOAD_2</th>\n",
       "      <th>LOAD_3</th>\n",
       "      <th>LOAD_4</th>\n",
       "      <th>LOAD_5</th>\n",
       "      <th>LOAD_6</th>\n",
       "      <th>LOAD_7</th>\n",
       "      <th>LOAD_8</th>\n",
       "    </tr>\n",
       "  </thead>\n",
       "  <tbody>\n",
       "    <tr>\n",
       "      <th>column_partitions</th>\n",
       "      <td>16*</td>\n",
       "      <td>16*</td>\n",
       "      <td>16*</td>\n",
       "      <td>16*</td>\n",
       "      <td>16*</td>\n",
       "      <td>16*</td>\n",
       "      <td>16*</td>\n",
       "      <td>16*</td>\n",
       "    </tr>\n",
       "    <tr>\n",
       "      <th>size_per_column_partition</th>\n",
       "      <td>100</td>\n",
       "      <td>100</td>\n",
       "      <td>100</td>\n",
       "      <td>10*</td>\n",
       "      <td>100</td>\n",
       "      <td>10*</td>\n",
       "      <td>10*</td>\n",
       "      <td>10*</td>\n",
       "    </tr>\n",
       "    <tr>\n",
       "      <th>num_parallel_vcf_files</th>\n",
       "      <td>1</td>\n",
       "      <td>1</td>\n",
       "      <td>1</td>\n",
       "      <td>1</td>\n",
       "      <td>1</td>\n",
       "      <td>1</td>\n",
       "      <td>1</td>\n",
       "      <td>1</td>\n",
       "    </tr>\n",
       "    <tr>\n",
       "      <th>compress_tiledb_array</th>\n",
       "      <td>true</td>\n",
       "      <td>true</td>\n",
       "      <td>true</td>\n",
       "      <td>true</td>\n",
       "      <td>true</td>\n",
       "      <td>true</td>\n",
       "      <td>true</td>\n",
       "      <td>true</td>\n",
       "    </tr>\n",
       "    <tr>\n",
       "      <th>num_cells_per_tile</th>\n",
       "      <td>1000</td>\n",
       "      <td>1000</td>\n",
       "      <td>1000</td>\n",
       "      <td>1000</td>\n",
       "      <td>1000</td>\n",
       "      <td>1000</td>\n",
       "      <td>1000</td>\n",
       "      <td>1000</td>\n",
       "    </tr>\n",
       "    <tr>\n",
       "      <th>do_ping_pong_buffering</th>\n",
       "      <td>false</td>\n",
       "      <td>false</td>\n",
       "      <td>false</td>\n",
       "      <td>false</td>\n",
       "      <td>false</td>\n",
       "      <td>false</td>\n",
       "      <td>false</td>\n",
       "      <td>false</td>\n",
       "    </tr>\n",
       "    <tr>\n",
       "      <th>segment_size</th>\n",
       "      <td>10</td>\n",
       "      <td>1*</td>\n",
       "      <td>[100, 'KB']*</td>\n",
       "      <td>[100, 'KB']*</td>\n",
       "      <td>[10, 'KB']*</td>\n",
       "      <td>[10, 'KB']*</td>\n",
       "      <td>1*</td>\n",
       "      <td>10</td>\n",
       "    </tr>\n",
       "  </tbody>\n",
       "</table>\n",
       "</div>"
      ],
      "text/plain": [
       "                          LOAD_1 LOAD_2        LOAD_3        LOAD_4  \\\n",
       "column_partitions            16*    16*           16*           16*   \n",
       "size_per_column_partition    100    100           100           10*   \n",
       "num_parallel_vcf_files         1      1             1             1   \n",
       "compress_tiledb_array       true   true          true          true   \n",
       "num_cells_per_tile          1000   1000          1000          1000   \n",
       "do_ping_pong_buffering     false  false         false         false   \n",
       "segment_size                  10     1*  [100, 'KB']*  [100, 'KB']*   \n",
       "\n",
       "                                LOAD_5       LOAD_6 LOAD_7 LOAD_8  \n",
       "column_partitions                  16*          16*    16*    16*  \n",
       "size_per_column_partition          100          10*    10*    10*  \n",
       "num_parallel_vcf_files               1            1      1      1  \n",
       "compress_tiledb_array             true         true   true   true  \n",
       "num_cells_per_tile                1000         1000   1000   1000  \n",
       "do_ping_pong_buffering           false        false  false  false  \n",
       "segment_size               [10, 'KB']*  [10, 'KB']*     1*     10  "
      ]
     },
     "execution_count": 4,
     "metadata": {},
     "output_type": "execute_result"
    }
   ],
   "source": [
    "runid, lc_config, col_title = data_preparer.getRunSetting4Pandas()\n",
    "print(\"==== run is %d user loader config ====\" % runid)\n",
    "pd.DataFrame.from_items(pd.Series(lc_config),orient='index', columns=col_title)"
   ]
  },
  {
   "cell_type": "code",
   "execution_count": 5,
   "metadata": {
    "collapsed": false,
    "scrolled": false
   },
   "outputs": [
    {
     "name": "stdout",
     "output_type": "stream",
     "text": [
      "==== command /usr/bin/time result for run 6 ====\n"
     ]
    },
    {
     "data": {
      "text/html": [
       "<div>\n",
       "<table border=\"1\" class=\"dataframe\">\n",
       "  <thead>\n",
       "    <tr style=\"text-align: right;\">\n",
       "      <th></th>\n",
       "      <th>LOAD_1</th>\n",
       "      <th>LOAD_2</th>\n",
       "      <th>LOAD_3</th>\n",
       "      <th>LOAD_4</th>\n",
       "      <th>LOAD_5</th>\n",
       "      <th>LOAD_6</th>\n",
       "      <th>LOAD_7</th>\n",
       "      <th>LOAD_8</th>\n",
       "    </tr>\n",
       "  </thead>\n",
       "  <tbody>\n",
       "    <tr>\n",
       "      <th>File System Input</th>\n",
       "      <td>5077</td>\n",
       "      <td>4684</td>\n",
       "      <td>5041</td>\n",
       "      <td>5420</td>\n",
       "      <td>4509</td>\n",
       "      <td>4607</td>\n",
       "      <td>5074</td>\n",
       "      <td>4503</td>\n",
       "    </tr>\n",
       "    <tr>\n",
       "      <th>Volunteer Context Switch</th>\n",
       "      <td>12850</td>\n",
       "      <td>18119</td>\n",
       "      <td>14434</td>\n",
       "      <td>17483</td>\n",
       "      <td>19484</td>\n",
       "      <td>13644</td>\n",
       "      <td>14509</td>\n",
       "      <td>23769</td>\n",
       "    </tr>\n",
       "    <tr>\n",
       "      <th>CPU %</th>\n",
       "      <td>96%</td>\n",
       "      <td>95%</td>\n",
       "      <td>96%</td>\n",
       "      <td>96%</td>\n",
       "      <td>95%</td>\n",
       "      <td>96%</td>\n",
       "      <td>95%</td>\n",
       "      <td>95%</td>\n",
       "    </tr>\n",
       "    <tr>\n",
       "      <th>File System Output</th>\n",
       "      <td>3617816</td>\n",
       "      <td>3617448</td>\n",
       "      <td>3617456</td>\n",
       "      <td>3617528</td>\n",
       "      <td>3618976</td>\n",
       "      <td>3617736</td>\n",
       "      <td>3618176</td>\n",
       "      <td>3618160</td>\n",
       "    </tr>\n",
       "    <tr>\n",
       "      <th>Major Page Fault</th>\n",
       "      <td>34</td>\n",
       "      <td>34</td>\n",
       "      <td>34</td>\n",
       "      <td>34</td>\n",
       "      <td>34</td>\n",
       "      <td>34</td>\n",
       "      <td>32</td>\n",
       "      <td>33</td>\n",
       "    </tr>\n",
       "    <tr>\n",
       "      <th>Involunteer Context Switch</th>\n",
       "      <td>3289832</td>\n",
       "      <td>3291248</td>\n",
       "      <td>3289160</td>\n",
       "      <td>3288712</td>\n",
       "      <td>3288432</td>\n",
       "      <td>3289352</td>\n",
       "      <td>3289632</td>\n",
       "      <td>3288792</td>\n",
       "    </tr>\n",
       "    <tr>\n",
       "      <th>Command</th>\n",
       "      <td>vcf2tiledb compute-2-27.json</td>\n",
       "      <td>vcf2tiledb compute-2-28.json</td>\n",
       "      <td>vcf2tiledb compute-2-26.json</td>\n",
       "      <td>vcf2tiledb compute-2-24.json</td>\n",
       "      <td>vcf2tiledb compute-2-29.json</td>\n",
       "      <td>vcf2tiledb compute-2-23.json</td>\n",
       "      <td>vcf2tiledb compute-2-22.json</td>\n",
       "      <td>vcf2tiledb compute-2-25.json</td>\n",
       "    </tr>\n",
       "    <tr>\n",
       "      <th>Wall Clock (sec)</th>\n",
       "      <td>774.75</td>\n",
       "      <td>779.57</td>\n",
       "      <td>780.79</td>\n",
       "      <td>788.44</td>\n",
       "      <td>790.63</td>\n",
       "      <td>803.15</td>\n",
       "      <td>816.69</td>\n",
       "      <td>828.39</td>\n",
       "    </tr>\n",
       "    <tr>\n",
       "      <th>Exit Code</th>\n",
       "      <td>0</td>\n",
       "      <td>0</td>\n",
       "      <td>0</td>\n",
       "      <td>0</td>\n",
       "      <td>0</td>\n",
       "      <td>0</td>\n",
       "      <td>0</td>\n",
       "      <td>0</td>\n",
       "    </tr>\n",
       "    <tr>\n",
       "      <th>Minor Page Fault</th>\n",
       "      <td>1307879</td>\n",
       "      <td>1319397</td>\n",
       "      <td>1330150</td>\n",
       "      <td>1375677</td>\n",
       "      <td>1333319</td>\n",
       "      <td>1357800</td>\n",
       "      <td>1327783</td>\n",
       "      <td>1357598</td>\n",
       "    </tr>\n",
       "  </tbody>\n",
       "</table>\n",
       "</div>"
      ],
      "text/plain": [
       "                                                  LOAD_1  \\\n",
       "File System Input                                   5077   \n",
       "Volunteer Context Switch                           12850   \n",
       "CPU %                                                96%   \n",
       "File System Output                               3617816   \n",
       "Major Page Fault                                      34   \n",
       "Involunteer Context Switch                       3289832   \n",
       "Command                     vcf2tiledb compute-2-27.json   \n",
       "Wall Clock (sec)                                  774.75   \n",
       "Exit Code                                              0   \n",
       "Minor Page Fault                                 1307879   \n",
       "\n",
       "                                                  LOAD_2  \\\n",
       "File System Input                                   4684   \n",
       "Volunteer Context Switch                           18119   \n",
       "CPU %                                                95%   \n",
       "File System Output                               3617448   \n",
       "Major Page Fault                                      34   \n",
       "Involunteer Context Switch                       3291248   \n",
       "Command                     vcf2tiledb compute-2-28.json   \n",
       "Wall Clock (sec)                                  779.57   \n",
       "Exit Code                                              0   \n",
       "Minor Page Fault                                 1319397   \n",
       "\n",
       "                                                  LOAD_3  \\\n",
       "File System Input                                   5041   \n",
       "Volunteer Context Switch                           14434   \n",
       "CPU %                                                96%   \n",
       "File System Output                               3617456   \n",
       "Major Page Fault                                      34   \n",
       "Involunteer Context Switch                       3289160   \n",
       "Command                     vcf2tiledb compute-2-26.json   \n",
       "Wall Clock (sec)                                  780.79   \n",
       "Exit Code                                              0   \n",
       "Minor Page Fault                                 1330150   \n",
       "\n",
       "                                                  LOAD_4  \\\n",
       "File System Input                                   5420   \n",
       "Volunteer Context Switch                           17483   \n",
       "CPU %                                                96%   \n",
       "File System Output                               3617528   \n",
       "Major Page Fault                                      34   \n",
       "Involunteer Context Switch                       3288712   \n",
       "Command                     vcf2tiledb compute-2-24.json   \n",
       "Wall Clock (sec)                                  788.44   \n",
       "Exit Code                                              0   \n",
       "Minor Page Fault                                 1375677   \n",
       "\n",
       "                                                  LOAD_5  \\\n",
       "File System Input                                   4509   \n",
       "Volunteer Context Switch                           19484   \n",
       "CPU %                                                95%   \n",
       "File System Output                               3618976   \n",
       "Major Page Fault                                      34   \n",
       "Involunteer Context Switch                       3288432   \n",
       "Command                     vcf2tiledb compute-2-29.json   \n",
       "Wall Clock (sec)                                  790.63   \n",
       "Exit Code                                              0   \n",
       "Minor Page Fault                                 1333319   \n",
       "\n",
       "                                                  LOAD_6  \\\n",
       "File System Input                                   4607   \n",
       "Volunteer Context Switch                           13644   \n",
       "CPU %                                                96%   \n",
       "File System Output                               3617736   \n",
       "Major Page Fault                                      34   \n",
       "Involunteer Context Switch                       3289352   \n",
       "Command                     vcf2tiledb compute-2-23.json   \n",
       "Wall Clock (sec)                                  803.15   \n",
       "Exit Code                                              0   \n",
       "Minor Page Fault                                 1357800   \n",
       "\n",
       "                                                  LOAD_7  \\\n",
       "File System Input                                   5074   \n",
       "Volunteer Context Switch                           14509   \n",
       "CPU %                                                95%   \n",
       "File System Output                               3618176   \n",
       "Major Page Fault                                      32   \n",
       "Involunteer Context Switch                       3289632   \n",
       "Command                     vcf2tiledb compute-2-22.json   \n",
       "Wall Clock (sec)                                  816.69   \n",
       "Exit Code                                              0   \n",
       "Minor Page Fault                                 1327783   \n",
       "\n",
       "                                                  LOAD_8  \n",
       "File System Input                                   4503  \n",
       "Volunteer Context Switch                           23769  \n",
       "CPU %                                                95%  \n",
       "File System Output                               3618160  \n",
       "Major Page Fault                                      33  \n",
       "Involunteer Context Switch                       3288792  \n",
       "Command                     vcf2tiledb compute-2-25.json  \n",
       "Wall Clock (sec)                                  828.39  \n",
       "Exit Code                                              0  \n",
       "Minor Page Fault                                 1357598  "
      ]
     },
     "execution_count": 5,
     "metadata": {},
     "output_type": "execute_result"
    }
   ],
   "source": [
    "time_results, col_header = data_preparer.get_time_result(runid)\n",
    "print(\"==== command /usr/bin/time result for run %d ====\" % runid)\n",
    "pd.DataFrame.from_items(pd.Series(time_results),orient='index', columns=col_header)"
   ]
  },
  {
   "cell_type": "code",
   "execution_count": 30,
   "metadata": {
    "collapsed": false
   },
   "outputs": [
    {
     "name": "stdout",
     "output_type": "stream",
     "text": [
      "==== command /usr/bin/vcf2tiledb result for run 6 LOAD_1 ====\n"
     ]
    },
    {
     "data": {
      "text/html": [
       "<div>\n",
       "<table border=\"1\" class=\"dataframe\">\n",
       "  <thead>\n",
       "    <tr style=\"text-align: right;\">\n",
       "      <th></th>\n",
       "      <th>Wall-clock time(s)</th>\n",
       "      <th>Cpu time(s)</th>\n",
       "      <th>Critical path wall-clock time(s)</th>\n",
       "      <th>Critical path Cpu time(s)</th>\n",
       "      <th>#critical path</th>\n",
       "    </tr>\n",
       "  </thead>\n",
       "  <tbody>\n",
       "    <tr>\n",
       "      <th>Fetch from VCF</th>\n",
       "      <td>269.031</td>\n",
       "      <td>263.515</td>\n",
       "      <td>225.84</td>\n",
       "      <td>220.333</td>\n",
       "      <td>70091</td>\n",
       "    </tr>\n",
       "    <tr>\n",
       "      <th>Combining Cells</th>\n",
       "      <td>457.678</td>\n",
       "      <td>454.875</td>\n",
       "      <td>422.104</td>\n",
       "      <td>419.317</td>\n",
       "      <td>16023</td>\n",
       "    </tr>\n",
       "    <tr>\n",
       "      <th>Flush Output</th>\n",
       "      <td>0</td>\n",
       "      <td>0</td>\n",
       "      <td>0</td>\n",
       "      <td>0</td>\n",
       "      <td>0</td>\n",
       "    </tr>\n",
       "    <tr>\n",
       "      <th>sections time</th>\n",
       "      <td>726.759</td>\n",
       "      <td>718.487</td>\n",
       "      <td>0</td>\n",
       "      <td>0</td>\n",
       "      <td>0</td>\n",
       "    </tr>\n",
       "    <tr>\n",
       "      <th>time in single thread phase()</th>\n",
       "      <td>0.040972</td>\n",
       "      <td>0.0416879</td>\n",
       "      <td>0</td>\n",
       "      <td>0</td>\n",
       "      <td>0</td>\n",
       "    </tr>\n",
       "    <tr>\n",
       "      <th>time in read_all()</th>\n",
       "      <td>726.856</td>\n",
       "      <td>718.584</td>\n",
       "      <td>0</td>\n",
       "      <td>0</td>\n",
       "      <td>0</td>\n",
       "    </tr>\n",
       "  </tbody>\n",
       "</table>\n",
       "</div>"
      ],
      "text/plain": [
       "                              Wall-clock time(s) Cpu time(s)  \\\n",
       "Fetch from VCF                           269.031     263.515   \n",
       "Combining Cells                          457.678     454.875   \n",
       "Flush Output                                   0           0   \n",
       "sections time                            726.759     718.487   \n",
       "time in single thread phase()           0.040972   0.0416879   \n",
       "time in read_all()                       726.856     718.584   \n",
       "\n",
       "                              Critical path wall-clock time(s)  \\\n",
       "Fetch from VCF                                          225.84   \n",
       "Combining Cells                                        422.104   \n",
       "Flush Output                                                 0   \n",
       "sections time                                                0   \n",
       "time in single thread phase()                                0   \n",
       "time in read_all()                                           0   \n",
       "\n",
       "                              Critical path Cpu time(s) #critical path  \n",
       "Fetch from VCF                                  220.333          70091  \n",
       "Combining Cells                                 419.317          16023  \n",
       "Flush Output                                          0              0  \n",
       "sections time                                         0              0  \n",
       "time in single thread phase()                         0              0  \n",
       "time in read_all()                                    0              0  "
      ]
     },
     "execution_count": 30,
     "metadata": {},
     "output_type": "execute_result"
    }
   ],
   "source": [
    "load_id = 'LOAD_1'\n",
    "gen_data, col_header = data_preparer.get_genome_results(runid, load_id)\n",
    "print(\"==== command /usr/bin/vcf2tiledb result for run %d %s ====\" % (runid, load_id))\n",
    "pd.DataFrame.from_items(pd.Series(gen_data),orient='index', columns=col_header)"
   ]
  },
  {
   "cell_type": "code",
   "execution_count": 32,
   "metadata": {
    "collapsed": false
   },
   "outputs": [
    {
     "name": "stdout",
     "output_type": "stream",
     "text": [
      "==== command /usr/bin/vcf2tiledb result for run 6 LOAD_8 ====\n"
     ]
    },
    {
     "data": {
      "text/html": [
       "<div>\n",
       "<table border=\"1\" class=\"dataframe\">\n",
       "  <thead>\n",
       "    <tr style=\"text-align: right;\">\n",
       "      <th></th>\n",
       "      <th>Wall-clock time(s)</th>\n",
       "      <th>Cpu time(s)</th>\n",
       "      <th>Critical path wall-clock time(s)</th>\n",
       "      <th>Critical path Cpu time(s)</th>\n",
       "      <th>#critical path</th>\n",
       "    </tr>\n",
       "  </thead>\n",
       "  <tbody>\n",
       "    <tr>\n",
       "      <th>Fetch from VCF</th>\n",
       "      <td>295.783</td>\n",
       "      <td>290.061</td>\n",
       "      <td>281.549</td>\n",
       "      <td>275.84</td>\n",
       "      <td>814772</td>\n",
       "    </tr>\n",
       "    <tr>\n",
       "      <th>Combining Cells</th>\n",
       "      <td>468.211</td>\n",
       "      <td>467.352</td>\n",
       "      <td>414.769</td>\n",
       "      <td>413.978</td>\n",
       "      <td>48197</td>\n",
       "    </tr>\n",
       "    <tr>\n",
       "      <th>Flush Output</th>\n",
       "      <td>0</td>\n",
       "      <td>0</td>\n",
       "      <td>0</td>\n",
       "      <td>0</td>\n",
       "      <td>0</td>\n",
       "    </tr>\n",
       "    <tr>\n",
       "      <th>sections time</th>\n",
       "      <td>764.459</td>\n",
       "      <td>758.124</td>\n",
       "      <td>0</td>\n",
       "      <td>0</td>\n",
       "      <td>0</td>\n",
       "    </tr>\n",
       "    <tr>\n",
       "      <th>time in single thread phase()</th>\n",
       "      <td>0.342296</td>\n",
       "      <td>0.34415</td>\n",
       "      <td>0</td>\n",
       "      <td>0</td>\n",
       "      <td>0</td>\n",
       "    </tr>\n",
       "    <tr>\n",
       "      <th>time in read_all()</th>\n",
       "      <td>765.303</td>\n",
       "      <td>758.964</td>\n",
       "      <td>0</td>\n",
       "      <td>0</td>\n",
       "      <td>0</td>\n",
       "    </tr>\n",
       "  </tbody>\n",
       "</table>\n",
       "</div>"
      ],
      "text/plain": [
       "                              Wall-clock time(s) Cpu time(s)  \\\n",
       "Fetch from VCF                           295.783     290.061   \n",
       "Combining Cells                          468.211     467.352   \n",
       "Flush Output                                   0           0   \n",
       "sections time                            764.459     758.124   \n",
       "time in single thread phase()           0.342296     0.34415   \n",
       "time in read_all()                       765.303     758.964   \n",
       "\n",
       "                              Critical path wall-clock time(s)  \\\n",
       "Fetch from VCF                                         281.549   \n",
       "Combining Cells                                        414.769   \n",
       "Flush Output                                                 0   \n",
       "sections time                                                0   \n",
       "time in single thread phase()                                0   \n",
       "time in read_all()                                           0   \n",
       "\n",
       "                              Critical path Cpu time(s) #critical path  \n",
       "Fetch from VCF                                   275.84         814772  \n",
       "Combining Cells                                 413.978          48197  \n",
       "Flush Output                                          0              0  \n",
       "sections time                                         0              0  \n",
       "time in single thread phase()                         0              0  \n",
       "time in read_all()                                    0              0  "
      ]
     },
     "execution_count": 32,
     "metadata": {},
     "output_type": "execute_result"
    }
   ],
   "source": [
    "load_id = 'LOAD_8'\n",
    "gen_data, col_header = data_preparer.get_genome_results(runid, load_id)\n",
    "print(\"==== command /usr/bin/vcf2tiledb result for run %d %s ====\" % (runid, load_id))\n",
    "pd.DataFrame.from_items(pd.Series(gen_data),orient='index', columns=col_header)"
   ]
  },
  {
   "cell_type": "code",
   "execution_count": 31,
   "metadata": {
    "collapsed": false
   },
   "outputs": [
    {
     "name": "stdout",
     "output_type": "stream",
     "text": [
      "==== command /usr/bin/vcf2tiledb result for run 6 LOAD_3 ====\n"
     ]
    },
    {
     "data": {
      "text/html": [
       "<div>\n",
       "<table border=\"1\" class=\"dataframe\">\n",
       "  <thead>\n",
       "    <tr style=\"text-align: right;\">\n",
       "      <th></th>\n",
       "      <th>Wall-clock time(s)</th>\n",
       "      <th>Cpu time(s)</th>\n",
       "      <th>Critical path wall-clock time(s)</th>\n",
       "      <th>Critical path Cpu time(s)</th>\n",
       "      <th>#critical path</th>\n",
       "    </tr>\n",
       "  </thead>\n",
       "  <tbody>\n",
       "    <tr>\n",
       "      <th>Fetch from VCF</th>\n",
       "      <td>277.282</td>\n",
       "      <td>270.798</td>\n",
       "      <td>127.564</td>\n",
       "      <td>121.117</td>\n",
       "      <td>32681</td>\n",
       "    </tr>\n",
       "    <tr>\n",
       "      <th>Combining Cells</th>\n",
       "      <td>458.105</td>\n",
       "      <td>455.51</td>\n",
       "      <td>450.793</td>\n",
       "      <td>448.208</td>\n",
       "      <td>53433</td>\n",
       "    </tr>\n",
       "    <tr>\n",
       "      <th>Flush Output</th>\n",
       "      <td>0</td>\n",
       "      <td>0</td>\n",
       "      <td>0</td>\n",
       "      <td>0</td>\n",
       "      <td>0</td>\n",
       "    </tr>\n",
       "    <tr>\n",
       "      <th>sections time</th>\n",
       "      <td>735.438</td>\n",
       "      <td>726.413</td>\n",
       "      <td>0</td>\n",
       "      <td>0</td>\n",
       "      <td>0</td>\n",
       "    </tr>\n",
       "    <tr>\n",
       "      <th>time in single thread phase()</th>\n",
       "      <td>0.040521</td>\n",
       "      <td>0.0417428</td>\n",
       "      <td>0</td>\n",
       "      <td>0</td>\n",
       "      <td>0</td>\n",
       "    </tr>\n",
       "    <tr>\n",
       "      <th>time in read_all()</th>\n",
       "      <td>735.535</td>\n",
       "      <td>726.51</td>\n",
       "      <td>0</td>\n",
       "      <td>0</td>\n",
       "      <td>0</td>\n",
       "    </tr>\n",
       "  </tbody>\n",
       "</table>\n",
       "</div>"
      ],
      "text/plain": [
       "                              Wall-clock time(s) Cpu time(s)  \\\n",
       "Fetch from VCF                           277.282     270.798   \n",
       "Combining Cells                          458.105      455.51   \n",
       "Flush Output                                   0           0   \n",
       "sections time                            735.438     726.413   \n",
       "time in single thread phase()           0.040521   0.0417428   \n",
       "time in read_all()                       735.535      726.51   \n",
       "\n",
       "                              Critical path wall-clock time(s)  \\\n",
       "Fetch from VCF                                         127.564   \n",
       "Combining Cells                                        450.793   \n",
       "Flush Output                                                 0   \n",
       "sections time                                                0   \n",
       "time in single thread phase()                                0   \n",
       "time in read_all()                                           0   \n",
       "\n",
       "                              Critical path Cpu time(s) #critical path  \n",
       "Fetch from VCF                                  121.117          32681  \n",
       "Combining Cells                                 448.208          53433  \n",
       "Flush Output                                          0              0  \n",
       "sections time                                         0              0  \n",
       "time in single thread phase()                         0              0  \n",
       "time in read_all()                                    0              0  "
      ]
     },
     "execution_count": 31,
     "metadata": {},
     "output_type": "execute_result"
    }
   ],
   "source": [
    "load_id = 'LOAD_3'\n",
    "gen_data, col_header = data_preparer.get_genome_results(runid, load_id)\n",
    "print(\"==== command /usr/bin/vcf2tiledb result for run %d %s ====\" % (runid, load_id))\n",
    "pd.DataFrame.from_items(pd.Series(gen_data),orient='index', columns=col_header)"
   ]
  },
  {
   "cell_type": "code",
   "execution_count": 33,
   "metadata": {
    "collapsed": false
   },
   "outputs": [
    {
     "name": "stdout",
     "output_type": "stream",
     "text": [
      "==== command /usr/bin/vcf2tiledb result for run 6 LOAD_4 ====\n"
     ]
    },
    {
     "data": {
      "text/html": [
       "<div>\n",
       "<table border=\"1\" class=\"dataframe\">\n",
       "  <thead>\n",
       "    <tr style=\"text-align: right;\">\n",
       "      <th></th>\n",
       "      <th>Wall-clock time(s)</th>\n",
       "      <th>Cpu time(s)</th>\n",
       "      <th>Critical path wall-clock time(s)</th>\n",
       "      <th>Critical path Cpu time(s)</th>\n",
       "      <th>#critical path</th>\n",
       "    </tr>\n",
       "  </thead>\n",
       "  <tbody>\n",
       "    <tr>\n",
       "      <th>Fetch from VCF</th>\n",
       "      <td>295.659</td>\n",
       "      <td>289.916</td>\n",
       "      <td>286.708</td>\n",
       "      <td>280.974</td>\n",
       "      <td>832173</td>\n",
       "    </tr>\n",
       "    <tr>\n",
       "      <th>Combining Cells</th>\n",
       "      <td>450.257</td>\n",
       "      <td>449.112</td>\n",
       "      <td>406.823</td>\n",
       "      <td>405.737</td>\n",
       "      <td>30796</td>\n",
       "    </tr>\n",
       "    <tr>\n",
       "      <th>Flush Output</th>\n",
       "      <td>0</td>\n",
       "      <td>0</td>\n",
       "      <td>0</td>\n",
       "      <td>0</td>\n",
       "      <td>0</td>\n",
       "    </tr>\n",
       "    <tr>\n",
       "      <th>sections time</th>\n",
       "      <td>746.378</td>\n",
       "      <td>739.764</td>\n",
       "      <td>0</td>\n",
       "      <td>0</td>\n",
       "      <td>0</td>\n",
       "    </tr>\n",
       "    <tr>\n",
       "      <th>time in single thread phase()</th>\n",
       "      <td>0.352178</td>\n",
       "      <td>0.352328</td>\n",
       "      <td>0</td>\n",
       "      <td>0</td>\n",
       "      <td>0</td>\n",
       "    </tr>\n",
       "    <tr>\n",
       "      <th>time in read_all()</th>\n",
       "      <td>747.245</td>\n",
       "      <td>740.628</td>\n",
       "      <td>0</td>\n",
       "      <td>0</td>\n",
       "      <td>0</td>\n",
       "    </tr>\n",
       "  </tbody>\n",
       "</table>\n",
       "</div>"
      ],
      "text/plain": [
       "                              Wall-clock time(s) Cpu time(s)  \\\n",
       "Fetch from VCF                           295.659     289.916   \n",
       "Combining Cells                          450.257     449.112   \n",
       "Flush Output                                   0           0   \n",
       "sections time                            746.378     739.764   \n",
       "time in single thread phase()           0.352178    0.352328   \n",
       "time in read_all()                       747.245     740.628   \n",
       "\n",
       "                              Critical path wall-clock time(s)  \\\n",
       "Fetch from VCF                                         286.708   \n",
       "Combining Cells                                        406.823   \n",
       "Flush Output                                                 0   \n",
       "sections time                                                0   \n",
       "time in single thread phase()                                0   \n",
       "time in read_all()                                           0   \n",
       "\n",
       "                              Critical path Cpu time(s) #critical path  \n",
       "Fetch from VCF                                  280.974         832173  \n",
       "Combining Cells                                 405.737          30796  \n",
       "Flush Output                                          0              0  \n",
       "sections time                                         0              0  \n",
       "time in single thread phase()                         0              0  \n",
       "time in read_all()                                    0              0  "
      ]
     },
     "execution_count": 33,
     "metadata": {},
     "output_type": "execute_result"
    }
   ],
   "source": [
    "load_id = 'LOAD_4'\n",
    "gen_data, col_header = data_preparer.get_genome_results(runid, load_id)\n",
    "print(\"==== command /usr/bin/vcf2tiledb result for run %d %s ====\" % (runid, load_id))\n",
    "pd.DataFrame.from_items(pd.Series(gen_data),orient='index', columns=col_header)"
   ]
  },
  {
   "cell_type": "code",
   "execution_count": 26,
   "metadata": {
    "collapsed": false
   },
   "outputs": [
    {
     "name": "stdout",
     "output_type": "stream",
     "text": [
      "stats: Num_x=1, Num_y=8\n"
     ]
    }
   ],
   "source": [
    "import pandas as pd\n",
    "import os, os.path\n",
    "stat_files = data_preparer.get_pidstats(runid)\n",
    "print(\"stats: Num_x=%d, Num_y=%d\" % (len(stat_files[0]), len(stat_files)))\n"
   ]
  },
  {
   "cell_type": "code",
   "execution_count": 27,
   "metadata": {
    "collapsed": false
   },
   "outputs": [
    {
     "name": "stdout",
     "output_type": "stream",
     "text": [
      "stat file C:\\Users\\mrutarx\\myprojects\\dev\\view_results\\run_6\\stats\\35-1702281424_2-27_pid_135560.cvs\n"
     ]
    },
    {
     "data": {
      "text/html": [
       "<div>\n",
       "<table border=\"1\" class=\"dataframe\">\n",
       "  <thead>\n",
       "    <tr style=\"text-align: right;\">\n",
       "      <th></th>\n",
       "      <th>%CPU</th>\n",
       "      <th>CPU</th>\n",
       "      <th>%MEM</th>\n",
       "      <th>kB_rd/s</th>\n",
       "      <th>kB_wr/s</th>\n",
       "      <th>nvcswch/s</th>\n",
       "    </tr>\n",
       "    <tr>\n",
       "      <th>Time</th>\n",
       "      <th></th>\n",
       "      <th></th>\n",
       "      <th></th>\n",
       "      <th></th>\n",
       "      <th></th>\n",
       "      <th></th>\n",
       "    </tr>\n",
       "  </thead>\n",
       "  <tbody>\n",
       "    <tr>\n",
       "      <th>1488320650</th>\n",
       "      <td>1.18</td>\n",
       "      <td>26</td>\n",
       "      <td>0.00</td>\n",
       "      <td>12052.0</td>\n",
       "      <td>0.0</td>\n",
       "      <td>106.0</td>\n",
       "    </tr>\n",
       "    <tr>\n",
       "      <th>1488320651</th>\n",
       "      <td>1.25</td>\n",
       "      <td>27</td>\n",
       "      <td>0.01</td>\n",
       "      <td>13728.0</td>\n",
       "      <td>0.0</td>\n",
       "      <td>119.0</td>\n",
       "    </tr>\n",
       "    <tr>\n",
       "      <th>1488320652</th>\n",
       "      <td>1.32</td>\n",
       "      <td>27</td>\n",
       "      <td>0.01</td>\n",
       "      <td>13496.0</td>\n",
       "      <td>0.0</td>\n",
       "      <td>125.0</td>\n",
       "    </tr>\n",
       "    <tr>\n",
       "      <th>1488320653</th>\n",
       "      <td>1.27</td>\n",
       "      <td>28</td>\n",
       "      <td>0.01</td>\n",
       "      <td>13824.0</td>\n",
       "      <td>0.0</td>\n",
       "      <td>118.0</td>\n",
       "    </tr>\n",
       "    <tr>\n",
       "      <th>1488320654</th>\n",
       "      <td>1.32</td>\n",
       "      <td>28</td>\n",
       "      <td>0.01</td>\n",
       "      <td>13424.0</td>\n",
       "      <td>0.0</td>\n",
       "      <td>122.0</td>\n",
       "    </tr>\n",
       "  </tbody>\n",
       "</table>\n",
       "</div>"
      ],
      "text/plain": [
       "            %CPU  CPU  %MEM  kB_rd/s  kB_wr/s  nvcswch/s\n",
       "Time                                                    \n",
       "1488320650  1.18   26  0.00  12052.0      0.0      106.0\n",
       "1488320651  1.25   27  0.01  13728.0      0.0      119.0\n",
       "1488320652  1.32   27  0.01  13496.0      0.0      125.0\n",
       "1488320653  1.27   28  0.01  13824.0      0.0      118.0\n",
       "1488320654  1.32   28  0.01  13424.0      0.0      122.0"
      ]
     },
     "execution_count": 27,
     "metadata": {},
     "output_type": "execute_result"
    }
   ],
   "source": [
    "fn = stat_files[0][0]\n",
    "print(\"stat file %s\" % fn)\n",
    "proc_stat = pd.DataFrame.from_csv(fn)\n",
    "proc_stat.head()\n"
   ]
  },
  {
   "cell_type": "code",
   "execution_count": 28,
   "metadata": {
    "collapsed": false
   },
   "outputs": [
    {
     "name": "stdout",
     "output_type": "stream",
     "text": [
      "stat of C:\\Users\\mrutarx\\myprojects\\dev\\view_results\\run_6\\stats\\35-1702281424_2-27_pid_135560.cvs\n"
     ]
    },
    {
     "data": {
      "text/plain": [
       "<matplotlib.axes._subplots.AxesSubplot at 0x4ad543e5c0>"
      ]
     },
     "execution_count": 28,
     "metadata": {},
     "output_type": "execute_result"
    },
    {
     "data": {
      "text/plain": [
       "<matplotlib.figure.Figure at 0x4ad59c45c0>"
      ]
     },
     "metadata": {},
     "output_type": "display_data"
    },
    {
     "data": {
      "image/png": "[encoded data removed]",
      "text/plain": [
       "<matplotlib.figure.Figure at 0x4ad59c42e8>"
      ]
     },
     "metadata": {
      "image/png": {
       "height": 263,
       "width": 391
      }
     },
     "output_type": "display_data"
    }
   ],
   "source": [
    "print(\"stat of %s\" % fn)\n",
    "plt.figure(figsize=(40,30))\n",
    "proc_stat.plot()"
   ]
  },
  {
   "cell_type": "code",
   "execution_count": 29,
   "metadata": {
    "collapsed": false
   },
   "outputs": [
    {
     "name": "stdout",
     "output_type": "stream",
     "text": [
      "stat of C:\\Users\\mrutarx\\myprojects\\dev\\view_results\\run_6\\stats\\30-1702281424_2-28_pid_142826.cvs\n"
     ]
    },
    {
     "data": {
      "text/plain": [
       "<matplotlib.axes._subplots.AxesSubplot at 0x4ad5ab0208>"
      ]
     },
     "execution_count": 29,
     "metadata": {},
     "output_type": "execute_result"
    },
    {
     "data": {
      "image/png": "[encoded data removed]",
      "text/plain": [
       "<matplotlib.figure.Figure at 0x4ad59c4ba8>"
      ]
     },
     "metadata": {
      "image/png": {
       "height": 263,
       "width": 391
      }
     },
     "output_type": "display_data"
    }
   ],
   "source": [
    "fn = stat_files[1][0]\n",
    "print(\"stat of %s\" % fn)\n",
    "fproc_stat = pd.DataFrame.from_csv(fn)\n",
    "proc_stat.plot()"
   ]
  },
  {
   "cell_type": "code",
   "execution_count": null,
   "metadata": {
    "collapsed": true
   },
   "outputs": [],
   "source": []
  }
 ],
 "metadata": {
  "kernelspec": {
   "display_name": "Python 3",
   "language": "python",
   "name": "python3"
  },
  "language_info": {
   "codemirror_mode": {
    "name": "ipython",
    "version": 3
   },
   "file_extension": ".py",
   "mimetype": "text/x-python",
   "name": "python",
   "nbconvert_exporter": "python",
   "pygments_lexer": "ipython3",
   "version": "3.6.0"
  }
 },
 "nbformat": 4,
 "nbformat_minor": 2
}
