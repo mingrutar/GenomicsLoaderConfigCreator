{
 "cells": [
  {
   "cell_type": "markdown",
   "metadata": {},
   "source": [
    "### GenomicsDB Loading Testing"
   ]
  },
  {
   "cell_type": "code",
   "execution_count": 1,
   "metadata": {
    "collapsed": false
   },
   "outputs": [],
   "source": [
    "%matplotlib inline\n",
    "%config InlineBackend.figure_format = 'retina'\n",
    "\n",
    "import pandas as pd\n",
    "import result_handler as rh\n",
    "import matplotlib.pyplot as plt\n",
    "\n",
    "data_preparer = rh.TimeResultHandler()"
   ]
  },
  {
   "cell_type": "code",
   "execution_count": 2,
   "metadata": {
    "collapsed": false
   },
   "outputs": [
    {
     "name": "stdout",
     "output_type": "stream",
     "text": [
      "INFO found genomicd loader db at C:\\Users\\mrutarx\\myprojects\\dev\\view_results\\run_19\\genomicsdb_loader.db\n"
     ]
    }
   ],
   "source": [
    "data_preparer.setResultPath(\"run_19\")"
   ]
  },
  {
   "cell_type": "code",
   "execution_count": 3,
   "metadata": {
    "collapsed": true
   },
   "outputs": [],
   "source": [
    "#plt.style.use('ggplot')"
   ]
  },
  {
   "cell_type": "code",
   "execution_count": 4,
   "metadata": {
    "collapsed": false,
    "scrolled": true
   },
   "outputs": [
    {
     "name": "stdout",
     "output_type": "stream",
     "text": [
      "==== run is 19 user loader config ====\n"
     ]
    },
    {
     "data": {
      "text/html": [
       "<div>\n",
       "<table border=\"1\" class=\"dataframe\">\n",
       "  <thead>\n",
       "    <tr style=\"text-align: right;\">\n",
       "      <th></th>\n",
       "      <th>LOAD_1</th>\n",
       "      <th>LOAD_2</th>\n",
       "      <th>LOAD_3</th>\n",
       "      <th>LOAD_4</th>\n",
       "      <th>LOAD_5</th>\n",
       "      <th>LOAD_6</th>\n",
       "      <th>LOAD_7</th>\n",
       "      <th>LOAD_8</th>\n",
       "      <th>LOAD_9</th>\n",
       "    </tr>\n",
       "  </thead>\n",
       "  <tbody>\n",
       "    <tr>\n",
       "      <th>num_cells_per_tile</th>\n",
       "      <td>1000</td>\n",
       "      <td>1000</td>\n",
       "      <td>1000</td>\n",
       "      <td>1000</td>\n",
       "      <td>1000</td>\n",
       "      <td>1000</td>\n",
       "      <td>1000</td>\n",
       "      <td>1000</td>\n",
       "      <td>1000</td>\n",
       "    </tr>\n",
       "    <tr>\n",
       "      <th>size_per_column_partition</th>\n",
       "      <td>100</td>\n",
       "      <td>100</td>\n",
       "      <td>100</td>\n",
       "      <td>100</td>\n",
       "      <td>10*</td>\n",
       "      <td>100</td>\n",
       "      <td>10*</td>\n",
       "      <td>10*</td>\n",
       "      <td>10*</td>\n",
       "    </tr>\n",
       "    <tr>\n",
       "      <th>segment_size</th>\n",
       "      <td>10</td>\n",
       "      <td>1*</td>\n",
       "      <td>100*</td>\n",
       "      <td>[100, 'KB']*</td>\n",
       "      <td>[100, 'KB']*</td>\n",
       "      <td>[10, 'KB']*</td>\n",
       "      <td>[10, 'KB']*</td>\n",
       "      <td>1*</td>\n",
       "      <td>10</td>\n",
       "    </tr>\n",
       "    <tr>\n",
       "      <th>num_parallel_vcf_files</th>\n",
       "      <td>1</td>\n",
       "      <td>1</td>\n",
       "      <td>1</td>\n",
       "      <td>1</td>\n",
       "      <td>1</td>\n",
       "      <td>1</td>\n",
       "      <td>1</td>\n",
       "      <td>1</td>\n",
       "      <td>1</td>\n",
       "    </tr>\n",
       "    <tr>\n",
       "      <th>compress_tiledb_array</th>\n",
       "      <td>true</td>\n",
       "      <td>true</td>\n",
       "      <td>true</td>\n",
       "      <td>true</td>\n",
       "      <td>true</td>\n",
       "      <td>true</td>\n",
       "      <td>true</td>\n",
       "      <td>true</td>\n",
       "      <td>true</td>\n",
       "    </tr>\n",
       "    <tr>\n",
       "      <th>do_ping_pong_buffering</th>\n",
       "      <td>false</td>\n",
       "      <td>false</td>\n",
       "      <td>false</td>\n",
       "      <td>false</td>\n",
       "      <td>false</td>\n",
       "      <td>false</td>\n",
       "      <td>false</td>\n",
       "      <td>false</td>\n",
       "      <td>false</td>\n",
       "    </tr>\n",
       "    <tr>\n",
       "      <th>column_partitions</th>\n",
       "      <td>16*</td>\n",
       "      <td>16*</td>\n",
       "      <td>16*</td>\n",
       "      <td>16*</td>\n",
       "      <td>16*</td>\n",
       "      <td>16*</td>\n",
       "      <td>16*</td>\n",
       "      <td>16*</td>\n",
       "      <td>16*</td>\n",
       "    </tr>\n",
       "  </tbody>\n",
       "</table>\n",
       "</div>"
      ],
      "text/plain": [
       "                          LOAD_1 LOAD_2 LOAD_3        LOAD_4        LOAD_5  \\\n",
       "num_cells_per_tile          1000   1000   1000          1000          1000   \n",
       "size_per_column_partition    100    100    100           100           10*   \n",
       "segment_size                  10     1*   100*  [100, 'KB']*  [100, 'KB']*   \n",
       "num_parallel_vcf_files         1      1      1             1             1   \n",
       "compress_tiledb_array       true   true   true          true          true   \n",
       "do_ping_pong_buffering     false  false  false         false         false   \n",
       "column_partitions            16*    16*    16*           16*           16*   \n",
       "\n",
       "                                LOAD_6       LOAD_7 LOAD_8 LOAD_9  \n",
       "num_cells_per_tile                1000         1000   1000   1000  \n",
       "size_per_column_partition          100          10*    10*    10*  \n",
       "segment_size               [10, 'KB']*  [10, 'KB']*     1*     10  \n",
       "num_parallel_vcf_files               1            1      1      1  \n",
       "compress_tiledb_array             true         true   true   true  \n",
       "do_ping_pong_buffering           false        false  false  false  \n",
       "column_partitions                  16*          16*    16*    16*  "
      ]
     },
     "execution_count": 4,
     "metadata": {},
     "output_type": "execute_result"
    }
   ],
   "source": [
    "runid, lc_config, col_title = data_preparer.getRunSetting4Pandas()\n",
    "print(\"==== run is %d user loader config ====\" % runid)\n",
    "pd.DataFrame.from_items(pd.Series(lc_config),orient='index', columns=col_title)"
   ]
  },
  {
   "cell_type": "code",
   "execution_count": 5,
   "metadata": {
    "collapsed": false,
    "scrolled": false
   },
   "outputs": [
    {
     "name": "stdout",
     "output_type": "stream",
     "text": [
      "==== command /usr/bin/time result for run 19 ====\n"
     ]
    },
    {
     "data": {
      "text/html": [
       "<div>\n",
       "<table border=\"1\" class=\"dataframe\">\n",
       "  <thead>\n",
       "    <tr style=\"text-align: right;\">\n",
       "      <th></th>\n",
       "      <th>LOAD_1</th>\n",
       "      <th>LOAD_2</th>\n",
       "      <th>LOAD_3</th>\n",
       "      <th>LOAD_4</th>\n",
       "      <th>LOAD_5</th>\n",
       "      <th>LOAD_6</th>\n",
       "      <th>LOAD_7</th>\n",
       "      <th>LOAD_8</th>\n",
       "      <th>LOAD_9</th>\n",
       "    </tr>\n",
       "  </thead>\n",
       "  <tbody>\n",
       "    <tr>\n",
       "      <th>Major Page Fault</th>\n",
       "      <td>34</td>\n",
       "      <td>33</td>\n",
       "      <td>34</td>\n",
       "      <td>34</td>\n",
       "      <td>34</td>\n",
       "      <td>33</td>\n",
       "      <td>34</td>\n",
       "      <td>34</td>\n",
       "      <td>34</td>\n",
       "    </tr>\n",
       "    <tr>\n",
       "      <th>File System Input</th>\n",
       "      <td>4939</td>\n",
       "      <td>4539</td>\n",
       "      <td>4775</td>\n",
       "      <td>4680</td>\n",
       "      <td>4927</td>\n",
       "      <td>4513</td>\n",
       "      <td>4588</td>\n",
       "      <td>4647</td>\n",
       "      <td>4472</td>\n",
       "    </tr>\n",
       "    <tr>\n",
       "      <th>Command</th>\n",
       "      <td>vcf2tiledb compute-2-23_bn16sg10KBsp10.json</td>\n",
       "      <td>vcf2tiledb compute-2-25_bn16sg1sp10.json</td>\n",
       "      <td>vcf2tiledb compute-2-24_bn16sg100KBsp10.json</td>\n",
       "      <td>vcf2tiledb compute-2-28_bn16sp10.json</td>\n",
       "      <td>vcf2tiledb compute-2-23_bn16sg10KB.json</td>\n",
       "      <td>vcf2tiledb compute-2-25_bn16sg1.json</td>\n",
       "      <td>vcf2tiledb compute-2-24_bn16sg100KB.json</td>\n",
       "      <td>vcf2tiledb compute-2-28_bn16.json</td>\n",
       "      <td>vcf2tiledb compute-2-23_bn16sg100.json</td>\n",
       "    </tr>\n",
       "    <tr>\n",
       "      <th>CPU %</th>\n",
       "      <td>96%</td>\n",
       "      <td>95%</td>\n",
       "      <td>95%</td>\n",
       "      <td>95%</td>\n",
       "      <td>96%</td>\n",
       "      <td>95%</td>\n",
       "      <td>95%</td>\n",
       "      <td>95%</td>\n",
       "      <td>96%</td>\n",
       "    </tr>\n",
       "    <tr>\n",
       "      <th>Minor Page Fault</th>\n",
       "      <td>1371215</td>\n",
       "      <td>1368976</td>\n",
       "      <td>1350082</td>\n",
       "      <td>1406911</td>\n",
       "      <td>2893302</td>\n",
       "      <td>2899012</td>\n",
       "      <td>2872609</td>\n",
       "      <td>2925828</td>\n",
       "      <td>3009432</td>\n",
       "    </tr>\n",
       "    <tr>\n",
       "      <th>File System Output</th>\n",
       "      <td>3618056</td>\n",
       "      <td>3618192</td>\n",
       "      <td>3617808</td>\n",
       "      <td>3617672</td>\n",
       "      <td>3617552</td>\n",
       "      <td>3618504</td>\n",
       "      <td>3617264</td>\n",
       "      <td>3617632</td>\n",
       "      <td>3617336</td>\n",
       "    </tr>\n",
       "    <tr>\n",
       "      <th>Involunteer Context Switch</th>\n",
       "      <td>3289584</td>\n",
       "      <td>3288800</td>\n",
       "      <td>3289576</td>\n",
       "      <td>3289824</td>\n",
       "      <td>3289520</td>\n",
       "      <td>3288680</td>\n",
       "      <td>3289408</td>\n",
       "      <td>3288608</td>\n",
       "      <td>3287176</td>\n",
       "    </tr>\n",
       "    <tr>\n",
       "      <th>Volunteer Context Switch</th>\n",
       "      <td>14431</td>\n",
       "      <td>22852</td>\n",
       "      <td>13491</td>\n",
       "      <td>20407</td>\n",
       "      <td>14681</td>\n",
       "      <td>21652</td>\n",
       "      <td>13883</td>\n",
       "      <td>19271</td>\n",
       "      <td>20589</td>\n",
       "    </tr>\n",
       "    <tr>\n",
       "      <th>Wall Clock (sec)</th>\n",
       "      <td>814.06</td>\n",
       "      <td>815.05</td>\n",
       "      <td>820.57</td>\n",
       "      <td>853.30</td>\n",
       "      <td>781.48</td>\n",
       "      <td>787.19</td>\n",
       "      <td>785.33</td>\n",
       "      <td>801.33</td>\n",
       "      <td>788.13</td>\n",
       "    </tr>\n",
       "    <tr>\n",
       "      <th>Exit Code</th>\n",
       "      <td>0</td>\n",
       "      <td>0</td>\n",
       "      <td>0</td>\n",
       "      <td>0</td>\n",
       "      <td>0</td>\n",
       "      <td>0</td>\n",
       "      <td>0</td>\n",
       "      <td>0</td>\n",
       "      <td>0</td>\n",
       "    </tr>\n",
       "  </tbody>\n",
       "</table>\n",
       "</div>"
      ],
      "text/plain": [
       "                                                                 LOAD_1  \\\n",
       "Major Page Fault                                                     34   \n",
       "File System Input                                                  4939   \n",
       "Command                     vcf2tiledb compute-2-23_bn16sg10KBsp10.json   \n",
       "CPU %                                                               96%   \n",
       "Minor Page Fault                                                1371215   \n",
       "File System Output                                              3618056   \n",
       "Involunteer Context Switch                                      3289584   \n",
       "Volunteer Context Switch                                          14431   \n",
       "Wall Clock (sec)                                                 814.06   \n",
       "Exit Code                                                             0   \n",
       "\n",
       "                                                              LOAD_2  \\\n",
       "Major Page Fault                                                  33   \n",
       "File System Input                                               4539   \n",
       "Command                     vcf2tiledb compute-2-25_bn16sg1sp10.json   \n",
       "CPU %                                                            95%   \n",
       "Minor Page Fault                                             1368976   \n",
       "File System Output                                           3618192   \n",
       "Involunteer Context Switch                                   3288800   \n",
       "Volunteer Context Switch                                       22852   \n",
       "Wall Clock (sec)                                              815.05   \n",
       "Exit Code                                                          0   \n",
       "\n",
       "                                                                  LOAD_3  \\\n",
       "Major Page Fault                                                      34   \n",
       "File System Input                                                   4775   \n",
       "Command                     vcf2tiledb compute-2-24_bn16sg100KBsp10.json   \n",
       "CPU %                                                                95%   \n",
       "Minor Page Fault                                                 1350082   \n",
       "File System Output                                               3617808   \n",
       "Involunteer Context Switch                                       3289576   \n",
       "Volunteer Context Switch                                           13491   \n",
       "Wall Clock (sec)                                                  820.57   \n",
       "Exit Code                                                              0   \n",
       "\n",
       "                                                           LOAD_4  \\\n",
       "Major Page Fault                                               34   \n",
       "File System Input                                            4680   \n",
       "Command                     vcf2tiledb compute-2-28_bn16sp10.json   \n",
       "CPU %                                                         95%   \n",
       "Minor Page Fault                                          1406911   \n",
       "File System Output                                        3617672   \n",
       "Involunteer Context Switch                                3289824   \n",
       "Volunteer Context Switch                                    20407   \n",
       "Wall Clock (sec)                                           853.30   \n",
       "Exit Code                                                       0   \n",
       "\n",
       "                                                             LOAD_5  \\\n",
       "Major Page Fault                                                 34   \n",
       "File System Input                                              4927   \n",
       "Command                     vcf2tiledb compute-2-23_bn16sg10KB.json   \n",
       "CPU %                                                           96%   \n",
       "Minor Page Fault                                            2893302   \n",
       "File System Output                                          3617552   \n",
       "Involunteer Context Switch                                  3289520   \n",
       "Volunteer Context Switch                                      14681   \n",
       "Wall Clock (sec)                                             781.48   \n",
       "Exit Code                                                         0   \n",
       "\n",
       "                                                          LOAD_6  \\\n",
       "Major Page Fault                                              33   \n",
       "File System Input                                           4513   \n",
       "Command                     vcf2tiledb compute-2-25_bn16sg1.json   \n",
       "CPU %                                                        95%   \n",
       "Minor Page Fault                                         2899012   \n",
       "File System Output                                       3618504   \n",
       "Involunteer Context Switch                               3288680   \n",
       "Volunteer Context Switch                                   21652   \n",
       "Wall Clock (sec)                                          787.19   \n",
       "Exit Code                                                      0   \n",
       "\n",
       "                                                              LOAD_7  \\\n",
       "Major Page Fault                                                  34   \n",
       "File System Input                                               4588   \n",
       "Command                     vcf2tiledb compute-2-24_bn16sg100KB.json   \n",
       "CPU %                                                            95%   \n",
       "Minor Page Fault                                             2872609   \n",
       "File System Output                                           3617264   \n",
       "Involunteer Context Switch                                   3289408   \n",
       "Volunteer Context Switch                                       13883   \n",
       "Wall Clock (sec)                                              785.33   \n",
       "Exit Code                                                          0   \n",
       "\n",
       "                                                       LOAD_8  \\\n",
       "Major Page Fault                                           34   \n",
       "File System Input                                        4647   \n",
       "Command                     vcf2tiledb compute-2-28_bn16.json   \n",
       "CPU %                                                     95%   \n",
       "Minor Page Fault                                      2925828   \n",
       "File System Output                                    3617632   \n",
       "Involunteer Context Switch                            3288608   \n",
       "Volunteer Context Switch                                19271   \n",
       "Wall Clock (sec)                                       801.33   \n",
       "Exit Code                                                   0   \n",
       "\n",
       "                                                            LOAD_9  \n",
       "Major Page Fault                                                34  \n",
       "File System Input                                             4472  \n",
       "Command                     vcf2tiledb compute-2-23_bn16sg100.json  \n",
       "CPU %                                                          96%  \n",
       "Minor Page Fault                                           3009432  \n",
       "File System Output                                         3617336  \n",
       "Involunteer Context Switch                                 3287176  \n",
       "Volunteer Context Switch                                     20589  \n",
       "Wall Clock (sec)                                            788.13  \n",
       "Exit Code                                                        0  "
      ]
     },
     "execution_count": 5,
     "metadata": {},
     "output_type": "execute_result"
    }
   ],
   "source": [
    "time_results, col_header = data_preparer.get_time_result(runid)\n",
    "print(\"==== command /usr/bin/time result for run %d ====\" % runid)\n",
    "pd.DataFrame.from_items(pd.Series(time_results),orient='index', columns=col_header)"
   ]
  },
  {
   "cell_type": "code",
   "execution_count": 6,
   "metadata": {
    "collapsed": false
   },
   "outputs": [
    {
     "name": "stdout",
     "output_type": "stream",
     "text": [
      "==== command /usr/bin/vcf2tiledb result for run 19 LOAD_1 ====\n"
     ]
    },
    {
     "data": {
      "text/html": [
       "<div>\n",
       "<table border=\"1\" class=\"dataframe\">\n",
       "  <thead>\n",
       "    <tr style=\"text-align: right;\">\n",
       "      <th></th>\n",
       "      <th>Wall-clock time(s)</th>\n",
       "      <th>Cpu time(s)</th>\n",
       "      <th>Critical path wall-clock time(s)</th>\n",
       "      <th>Critical path Cpu time(s)</th>\n",
       "      <th>#critical path</th>\n",
       "    </tr>\n",
       "  </thead>\n",
       "  <tbody>\n",
       "    <tr>\n",
       "      <th>Fetch from VCF</th>\n",
       "      <td>302.91</td>\n",
       "      <td>297.1</td>\n",
       "      <td>271.711</td>\n",
       "      <td>265.93</td>\n",
       "      <td>761986</td>\n",
       "    </tr>\n",
       "    <tr>\n",
       "      <th>Combining Cells</th>\n",
       "      <td>459.453</td>\n",
       "      <td>457.023</td>\n",
       "      <td>423.197</td>\n",
       "      <td>420.821</td>\n",
       "      <td>100983</td>\n",
       "    </tr>\n",
       "    <tr>\n",
       "      <th>Flush Output</th>\n",
       "      <td>0</td>\n",
       "      <td>0</td>\n",
       "      <td>0</td>\n",
       "      <td>0</td>\n",
       "      <td>0</td>\n",
       "    </tr>\n",
       "    <tr>\n",
       "      <th>sections time</th>\n",
       "      <td>762.847</td>\n",
       "      <td>754.925</td>\n",
       "      <td>0</td>\n",
       "      <td>0</td>\n",
       "      <td>0</td>\n",
       "    </tr>\n",
       "    <tr>\n",
       "      <th>time in single thread phase()</th>\n",
       "      <td>0.353086</td>\n",
       "      <td>0.361399</td>\n",
       "      <td>0</td>\n",
       "      <td>0</td>\n",
       "      <td>0</td>\n",
       "    </tr>\n",
       "    <tr>\n",
       "      <th>time in read_all()</th>\n",
       "      <td>763.744</td>\n",
       "      <td>755.818</td>\n",
       "      <td>0</td>\n",
       "      <td>0</td>\n",
       "      <td>0</td>\n",
       "    </tr>\n",
       "  </tbody>\n",
       "</table>\n",
       "</div>"
      ],
      "text/plain": [
       "                              Wall-clock time(s) Cpu time(s)  \\\n",
       "Fetch from VCF                            302.91       297.1   \n",
       "Combining Cells                          459.453     457.023   \n",
       "Flush Output                                   0           0   \n",
       "sections time                            762.847     754.925   \n",
       "time in single thread phase()           0.353086    0.361399   \n",
       "time in read_all()                       763.744     755.818   \n",
       "\n",
       "                              Critical path wall-clock time(s)  \\\n",
       "Fetch from VCF                                         271.711   \n",
       "Combining Cells                                        423.197   \n",
       "Flush Output                                                 0   \n",
       "sections time                                                0   \n",
       "time in single thread phase()                                0   \n",
       "time in read_all()                                           0   \n",
       "\n",
       "                              Critical path Cpu time(s) #critical path  \n",
       "Fetch from VCF                                   265.93         761986  \n",
       "Combining Cells                                 420.821         100983  \n",
       "Flush Output                                          0              0  \n",
       "sections time                                         0              0  \n",
       "time in single thread phase()                         0              0  \n",
       "time in read_all()                                    0              0  "
      ]
     },
     "execution_count": 6,
     "metadata": {},
     "output_type": "execute_result"
    }
   ],
   "source": [
    "load_id = 'LOAD_1'\n",
    "gen_data, col_header = data_preparer.get_genome_results(runid, load_id)\n",
    "print(\"==== command /usr/bin/vcf2tiledb result for run %d %s ====\" % (runid, load_id))\n",
    "pd.DataFrame.from_items(pd.Series(gen_data),orient='index', columns=col_header)"
   ]
  },
  {
   "cell_type": "code",
   "execution_count": null,
   "metadata": {
    "collapsed": false
   },
   "outputs": [],
   "source": [
    "load_id = 'LOAD_8'\n",
    "gen_data, col_header = data_preparer.get_genome_results(runid, load_id)\n",
    "print(\"==== command /usr/bin/vcf2tiledb result for run %d %s ====\" % (runid, load_id))\n",
    "pd.DataFrame.from_items(pd.Series(gen_data),orient='index', columns=col_header)"
   ]
  },
  {
   "cell_type": "code",
   "execution_count": null,
   "metadata": {
    "collapsed": false
   },
   "outputs": [],
   "source": [
    "load_id = 'LOAD_3'\n",
    "gen_data, col_header = data_preparer.get_genome_results(runid, load_id)\n",
    "print(\"==== command /usr/bin/vcf2tiledb result for run %d %s ====\" % (runid, load_id))\n",
    "pd.DataFrame.from_items(pd.Series(gen_data),orient='index', columns=col_header)"
   ]
  },
  {
   "cell_type": "code",
   "execution_count": null,
   "metadata": {
    "collapsed": false
   },
   "outputs": [],
   "source": [
    "load_id = 'LOAD_4'\n",
    "gen_data, col_header = data_preparer.get_genome_results(runid, load_id)\n",
    "print(\"==== command /usr/bin/vcf2tiledb result for run %d %s ====\" % (runid, load_id))\n",
    "pd.DataFrame.from_items(pd.Series(gen_data),orient='index', columns=col_header)"
   ]
  },
  {
   "cell_type": "code",
   "execution_count": 10,
   "metadata": {
    "collapsed": false
   },
   "outputs": [
    {
     "name": "stdout",
     "output_type": "stream",
     "text": [
      "stats: Num_row=9, Num_col=1\n"
     ]
    }
   ],
   "source": [
    "import pandas as pd\n",
    "import os, os.path\n",
    "stat_files = data_preparer.get_pidstats(runid)\n",
    "print(\"stats: Num_row=%d, Num_col=%d\" % (len(stat_files), len(stat_files[0])))\n"
   ]
  },
  {
   "cell_type": "code",
   "execution_count": 8,
   "metadata": {
    "collapsed": false
   },
   "outputs": [
    {
     "name": "stdout",
     "output_type": "stream",
     "text": [
      "stat file C:\\Users\\mrutarx\\myprojects\\dev\\view_results\\run_19\\stats\\19-139-compute-2-23_pid_183325.cvs\n"
     ]
    },
    {
     "data": {
      "text/html": [
       "<div>\n",
       "<table border=\"1\" class=\"dataframe\">\n",
       "  <thead>\n",
       "    <tr style=\"text-align: right;\">\n",
       "      <th></th>\n",
       "      <th>%CPU</th>\n",
       "      <th>CPU</th>\n",
       "      <th>%MEM</th>\n",
       "      <th>kB_rd/s</th>\n",
       "      <th>kB_wr/s</th>\n",
       "      <th>nvcswch/s</th>\n",
       "    </tr>\n",
       "    <tr>\n",
       "      <th>Time</th>\n",
       "      <th></th>\n",
       "      <th></th>\n",
       "      <th></th>\n",
       "      <th></th>\n",
       "      <th></th>\n",
       "      <th></th>\n",
       "    </tr>\n",
       "  </thead>\n",
       "  <tbody>\n",
       "    <tr>\n",
       "      <th>1488395064</th>\n",
       "      <td>1.34</td>\n",
       "      <td>31</td>\n",
       "      <td>0.00</td>\n",
       "      <td>15100.0</td>\n",
       "      <td>0.0</td>\n",
       "      <td>128.0</td>\n",
       "    </tr>\n",
       "    <tr>\n",
       "      <th>1488395065</th>\n",
       "      <td>1.34</td>\n",
       "      <td>32</td>\n",
       "      <td>0.00</td>\n",
       "      <td>15184.0</td>\n",
       "      <td>0.0</td>\n",
       "      <td>131.0</td>\n",
       "    </tr>\n",
       "    <tr>\n",
       "      <th>1488395066</th>\n",
       "      <td>0.86</td>\n",
       "      <td>32</td>\n",
       "      <td>0.00</td>\n",
       "      <td>8272.0</td>\n",
       "      <td>0.0</td>\n",
       "      <td>63.0</td>\n",
       "    </tr>\n",
       "    <tr>\n",
       "      <th>1488395067</th>\n",
       "      <td>1.32</td>\n",
       "      <td>32</td>\n",
       "      <td>0.01</td>\n",
       "      <td>14548.0</td>\n",
       "      <td>0.0</td>\n",
       "      <td>132.0</td>\n",
       "    </tr>\n",
       "    <tr>\n",
       "      <th>1488395068</th>\n",
       "      <td>1.32</td>\n",
       "      <td>32</td>\n",
       "      <td>0.01</td>\n",
       "      <td>14700.0</td>\n",
       "      <td>0.0</td>\n",
       "      <td>132.0</td>\n",
       "    </tr>\n",
       "  </tbody>\n",
       "</table>\n",
       "</div>"
      ],
      "text/plain": [
       "            %CPU  CPU  %MEM  kB_rd/s  kB_wr/s  nvcswch/s\n",
       "Time                                                    \n",
       "1488395064  1.34   31  0.00  15100.0      0.0      128.0\n",
       "1488395065  1.34   32  0.00  15184.0      0.0      131.0\n",
       "1488395066  0.86   32  0.00   8272.0      0.0       63.0\n",
       "1488395067  1.32   32  0.01  14548.0      0.0      132.0\n",
       "1488395068  1.32   32  0.01  14700.0      0.0      132.0"
      ]
     },
     "execution_count": 8,
     "metadata": {},
     "output_type": "execute_result"
    }
   ],
   "source": [
    "fn = stat_files[0][0]\n",
    "print(\"stat file %s\" % fn)\n",
    "proc_stat = pd.DataFrame.from_csv(fn)\n",
    "proc_stat.head()\n"
   ]
  },
  {
   "cell_type": "code",
   "execution_count": 9,
   "metadata": {
    "collapsed": false
   },
   "outputs": [
    {
     "name": "stdout",
     "output_type": "stream",
     "text": [
      "stat of C:\\Users\\mrutarx\\myprojects\\dev\\view_results\\run_19\\stats\\19-139-compute-2-23_pid_183325.cvs\n"
     ]
    },
    {
     "data": {
      "text/plain": [
       "<matplotlib.axes._subplots.AxesSubplot at 0x2ef355c0f0>"
      ]
     },
     "execution_count": 9,
     "metadata": {},
     "output_type": "execute_result"
    },
    {
     "data": {
      "text/plain": [
       "<matplotlib.figure.Figure at 0x2ef35539b0>"
      ]
     },
     "metadata": {},
     "output_type": "display_data"
    },
    {
     "data": {
      "image/png": "[encoded data removed]",
      "text/plain": [
       "<matplotlib.figure.Figure at 0x2ef34e7f28>"
      ]
     },
     "metadata": {
      "image/png": {
       "height": 263,
       "width": 389
      }
     },
     "output_type": "display_data"
    }
   ],
   "source": [
    "print(\"stat of %s\" % fn)\n",
    "plt.figure(figsize=(40,30))\n",
    "proc_stat.plot()"
   ]
  },
  {
   "cell_type": "code",
   "execution_count": null,
   "metadata": {
    "collapsed": false
   },
   "outputs": [],
   "source": [
    "fn = stat_files[1][0]\n",
    "print(\"stat of %s\" % fn)\n",
    "fproc_stat = pd.DataFrame.from_csv(fn)\n",
    "proc_stat.plot()"
   ]
  },
  {
   "cell_type": "code",
   "execution_count": null,
   "metadata": {
    "collapsed": true
   },
   "outputs": [],
   "source": []
  }
 ],
 "metadata": {
  "kernelspec": {
   "display_name": "Python 3",
   "language": "python",
   "name": "python3"
  },
  "language_info": {
   "codemirror_mode": {
    "name": "ipython",
    "version": 3
   },
   "file_extension": ".py",
   "mimetype": "text/x-python",
   "name": "python",
   "nbconvert_exporter": "python",
   "pygments_lexer": "ipython3",
   "version": "3.5.2"
  }
 },
 "nbformat": 4,
 "nbformat_minor": 2
}
