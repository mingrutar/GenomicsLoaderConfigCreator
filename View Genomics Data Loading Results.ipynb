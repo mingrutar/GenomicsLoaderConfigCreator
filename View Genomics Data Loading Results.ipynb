{
 "cells": [
  {
   "cell_type": "markdown",
   "metadata": {},
   "source": [
    "### GenomicsDB Loading Testing"
   ]
  },
  {
   "cell_type": "code",
   "execution_count": 1,
   "metadata": {
    "collapsed": false
   },
   "outputs": [],
   "source": [
    "%matplotlib inline\n",
    "%config InlineBackend.figure_format = 'retina'\n",
    "\n",
    "import pandas as pd\n",
    "import result_handler as rh\n",
    "import matplotlib.pyplot as plt\n",
    "\n",
    "data_preparer = rh.TimeResultHandler()"
   ]
  },
  {
   "cell_type": "code",
   "execution_count": 2,
   "metadata": {
    "collapsed": true
   },
   "outputs": [],
   "source": [
    "plt.style.use('ggplot')"
   ]
  },
  {
   "cell_type": "code",
   "execution_count": 5,
   "metadata": {
    "collapsed": false,
    "scrolled": true
   },
   "outputs": [
    {
     "name": "stdout",
     "output_type": "stream",
     "text": [
      "==== run is 6 user loader config ====\n"
     ]
    },
    {
     "data": {
      "text/html": [
       "<div>\n",
       "<table border=\"1\" class=\"dataframe\">\n",
       "  <thead>\n",
       "    <tr style=\"text-align: right;\">\n",
       "      <th></th>\n",
       "      <th>TEST_1</th>\n",
       "      <th>TEST_2</th>\n",
       "      <th>TEST_3</th>\n",
       "      <th>TEST_4</th>\n",
       "      <th>TEST_5</th>\n",
       "      <th>TEST_6</th>\n",
       "      <th>TEST_7</th>\n",
       "      <th>TEST_8</th>\n",
       "    </tr>\n",
       "  </thead>\n",
       "  <tbody>\n",
       "    <tr>\n",
       "      <th>column_partitions</th>\n",
       "      <td>16*</td>\n",
       "      <td>16*</td>\n",
       "      <td>16*</td>\n",
       "      <td>16*</td>\n",
       "      <td>16*</td>\n",
       "      <td>16*</td>\n",
       "      <td>16*</td>\n",
       "      <td>16*</td>\n",
       "    </tr>\n",
       "    <tr>\n",
       "      <th>size_per_column_partition</th>\n",
       "      <td>100</td>\n",
       "      <td>100</td>\n",
       "      <td>100</td>\n",
       "      <td>10*</td>\n",
       "      <td>100</td>\n",
       "      <td>10*</td>\n",
       "      <td>10*</td>\n",
       "      <td>10*</td>\n",
       "    </tr>\n",
       "    <tr>\n",
       "      <th>num_parallel_vcf_files</th>\n",
       "      <td>1</td>\n",
       "      <td>1</td>\n",
       "      <td>1</td>\n",
       "      <td>1</td>\n",
       "      <td>1</td>\n",
       "      <td>1</td>\n",
       "      <td>1</td>\n",
       "      <td>1</td>\n",
       "    </tr>\n",
       "    <tr>\n",
       "      <th>compress_tiledb_array</th>\n",
       "      <td>true</td>\n",
       "      <td>true</td>\n",
       "      <td>true</td>\n",
       "      <td>true</td>\n",
       "      <td>true</td>\n",
       "      <td>true</td>\n",
       "      <td>true</td>\n",
       "      <td>true</td>\n",
       "    </tr>\n",
       "    <tr>\n",
       "      <th>num_cells_per_tile</th>\n",
       "      <td>1000</td>\n",
       "      <td>1000</td>\n",
       "      <td>1000</td>\n",
       "      <td>1000</td>\n",
       "      <td>1000</td>\n",
       "      <td>1000</td>\n",
       "      <td>1000</td>\n",
       "      <td>1000</td>\n",
       "    </tr>\n",
       "    <tr>\n",
       "      <th>do_ping_pong_buffering</th>\n",
       "      <td>false</td>\n",
       "      <td>false</td>\n",
       "      <td>false</td>\n",
       "      <td>false</td>\n",
       "      <td>false</td>\n",
       "      <td>false</td>\n",
       "      <td>false</td>\n",
       "      <td>false</td>\n",
       "    </tr>\n",
       "    <tr>\n",
       "      <th>segment_size</th>\n",
       "      <td>10</td>\n",
       "      <td>1*</td>\n",
       "      <td>[100, 'KB']*</td>\n",
       "      <td>[100, 'KB']*</td>\n",
       "      <td>[10, 'KB']*</td>\n",
       "      <td>[10, 'KB']*</td>\n",
       "      <td>1*</td>\n",
       "      <td>10</td>\n",
       "    </tr>\n",
       "  </tbody>\n",
       "</table>\n",
       "</div>"
      ],
      "text/plain": [
       "                          TEST_1 TEST_2        TEST_3        TEST_4  \\\n",
       "column_partitions            16*    16*           16*           16*   \n",
       "size_per_column_partition    100    100           100           10*   \n",
       "num_parallel_vcf_files         1      1             1             1   \n",
       "compress_tiledb_array       true   true          true          true   \n",
       "num_cells_per_tile          1000   1000          1000          1000   \n",
       "do_ping_pong_buffering     false  false         false         false   \n",
       "segment_size                  10     1*  [100, 'KB']*  [100, 'KB']*   \n",
       "\n",
       "                                TEST_5       TEST_6 TEST_7 TEST_8  \n",
       "column_partitions                  16*          16*    16*    16*  \n",
       "size_per_column_partition          100          10*    10*    10*  \n",
       "num_parallel_vcf_files               1            1      1      1  \n",
       "compress_tiledb_array             true         true   true   true  \n",
       "num_cells_per_tile                1000         1000   1000   1000  \n",
       "do_ping_pong_buffering           false        false  false  false  \n",
       "segment_size               [10, 'KB']*  [10, 'KB']*     1*     10  "
      ]
     },
     "execution_count": 5,
     "metadata": {},
     "output_type": "execute_result"
    }
   ],
   "source": [
    "runid, lc_config, col_title = data_preparer.getRunSetting4Pandas()\n",
    "print(\"==== run is %d user loader config ====\" % runid)\n",
    "pd.DataFrame.from_items(pd.Series(lc_config),orient='index', columns=col_title)"
   ]
  },
  {
   "cell_type": "code",
   "execution_count": 6,
   "metadata": {
    "collapsed": false,
    "scrolled": false
   },
   "outputs": [
    {
     "name": "stdout",
     "output_type": "stream",
     "text": [
      "==== command /usr/bin/time result for run 6 ====\n"
     ]
    },
    {
     "data": {
      "text/html": [
       "<div>\n",
       "<table border=\"1\" class=\"dataframe\">\n",
       "  <thead>\n",
       "    <tr style=\"text-align: right;\">\n",
       "      <th></th>\n",
       "      <th>TEST_1</th>\n",
       "      <th>TEST_2</th>\n",
       "      <th>TEST_3</th>\n",
       "      <th>TEST_4</th>\n",
       "      <th>TEST_5</th>\n",
       "      <th>TEST_6</th>\n",
       "      <th>TEST_7</th>\n",
       "      <th>TEST_8</th>\n",
       "    </tr>\n",
       "  </thead>\n",
       "  <tbody>\n",
       "    <tr>\n",
       "      <th>File System Input</th>\n",
       "      <td>5077</td>\n",
       "      <td>4684</td>\n",
       "      <td>5041</td>\n",
       "      <td>5420</td>\n",
       "      <td>4509</td>\n",
       "      <td>4607</td>\n",
       "      <td>5074</td>\n",
       "      <td>4503</td>\n",
       "    </tr>\n",
       "    <tr>\n",
       "      <th>Volunteer Context Switch</th>\n",
       "      <td>12850</td>\n",
       "      <td>18119</td>\n",
       "      <td>14434</td>\n",
       "      <td>17483</td>\n",
       "      <td>19484</td>\n",
       "      <td>13644</td>\n",
       "      <td>14509</td>\n",
       "      <td>23769</td>\n",
       "    </tr>\n",
       "    <tr>\n",
       "      <th>CPU %</th>\n",
       "      <td>96%</td>\n",
       "      <td>95%</td>\n",
       "      <td>96%</td>\n",
       "      <td>96%</td>\n",
       "      <td>95%</td>\n",
       "      <td>96%</td>\n",
       "      <td>95%</td>\n",
       "      <td>95%</td>\n",
       "    </tr>\n",
       "    <tr>\n",
       "      <th>File System Output</th>\n",
       "      <td>3617816</td>\n",
       "      <td>3617448</td>\n",
       "      <td>3617456</td>\n",
       "      <td>3617528</td>\n",
       "      <td>3618976</td>\n",
       "      <td>3617736</td>\n",
       "      <td>3618176</td>\n",
       "      <td>3618160</td>\n",
       "    </tr>\n",
       "    <tr>\n",
       "      <th>Major Page Fault</th>\n",
       "      <td>34</td>\n",
       "      <td>34</td>\n",
       "      <td>34</td>\n",
       "      <td>34</td>\n",
       "      <td>34</td>\n",
       "      <td>34</td>\n",
       "      <td>32</td>\n",
       "      <td>33</td>\n",
       "    </tr>\n",
       "    <tr>\n",
       "      <th>Involunteer Context Switch</th>\n",
       "      <td>3289832</td>\n",
       "      <td>3291248</td>\n",
       "      <td>3289160</td>\n",
       "      <td>3288712</td>\n",
       "      <td>3288432</td>\n",
       "      <td>3289352</td>\n",
       "      <td>3289632</td>\n",
       "      <td>3288792</td>\n",
       "    </tr>\n",
       "    <tr>\n",
       "      <th>Command</th>\n",
       "      <td>vcf2tiledb compute-2-27.json</td>\n",
       "      <td>vcf2tiledb compute-2-28.json</td>\n",
       "      <td>vcf2tiledb compute-2-26.json</td>\n",
       "      <td>vcf2tiledb compute-2-24.json</td>\n",
       "      <td>vcf2tiledb compute-2-29.json</td>\n",
       "      <td>vcf2tiledb compute-2-23.json</td>\n",
       "      <td>vcf2tiledb compute-2-22.json</td>\n",
       "      <td>vcf2tiledb compute-2-25.json</td>\n",
       "    </tr>\n",
       "    <tr>\n",
       "      <th>Wall Clock (sec)</th>\n",
       "      <td>774.75</td>\n",
       "      <td>779.57</td>\n",
       "      <td>780.79</td>\n",
       "      <td>788.44</td>\n",
       "      <td>790.63</td>\n",
       "      <td>803.15</td>\n",
       "      <td>816.69</td>\n",
       "      <td>828.39</td>\n",
       "    </tr>\n",
       "    <tr>\n",
       "      <th>Exit Code</th>\n",
       "      <td>0</td>\n",
       "      <td>0</td>\n",
       "      <td>0</td>\n",
       "      <td>0</td>\n",
       "      <td>0</td>\n",
       "      <td>0</td>\n",
       "      <td>0</td>\n",
       "      <td>0</td>\n",
       "    </tr>\n",
       "    <tr>\n",
       "      <th>Minor Page Fault</th>\n",
       "      <td>1307879</td>\n",
       "      <td>1319397</td>\n",
       "      <td>1330150</td>\n",
       "      <td>1375677</td>\n",
       "      <td>1333319</td>\n",
       "      <td>1357800</td>\n",
       "      <td>1327783</td>\n",
       "      <td>1357598</td>\n",
       "    </tr>\n",
       "  </tbody>\n",
       "</table>\n",
       "</div>"
      ],
      "text/plain": [
       "                                                  TEST_1  \\\n",
       "File System Input                                   5077   \n",
       "Volunteer Context Switch                           12850   \n",
       "CPU %                                                96%   \n",
       "File System Output                               3617816   \n",
       "Major Page Fault                                      34   \n",
       "Involunteer Context Switch                       3289832   \n",
       "Command                     vcf2tiledb compute-2-27.json   \n",
       "Wall Clock (sec)                                  774.75   \n",
       "Exit Code                                              0   \n",
       "Minor Page Fault                                 1307879   \n",
       "\n",
       "                                                  TEST_2  \\\n",
       "File System Input                                   4684   \n",
       "Volunteer Context Switch                           18119   \n",
       "CPU %                                                95%   \n",
       "File System Output                               3617448   \n",
       "Major Page Fault                                      34   \n",
       "Involunteer Context Switch                       3291248   \n",
       "Command                     vcf2tiledb compute-2-28.json   \n",
       "Wall Clock (sec)                                  779.57   \n",
       "Exit Code                                              0   \n",
       "Minor Page Fault                                 1319397   \n",
       "\n",
       "                                                  TEST_3  \\\n",
       "File System Input                                   5041   \n",
       "Volunteer Context Switch                           14434   \n",
       "CPU %                                                96%   \n",
       "File System Output                               3617456   \n",
       "Major Page Fault                                      34   \n",
       "Involunteer Context Switch                       3289160   \n",
       "Command                     vcf2tiledb compute-2-26.json   \n",
       "Wall Clock (sec)                                  780.79   \n",
       "Exit Code                                              0   \n",
       "Minor Page Fault                                 1330150   \n",
       "\n",
       "                                                  TEST_4  \\\n",
       "File System Input                                   5420   \n",
       "Volunteer Context Switch                           17483   \n",
       "CPU %                                                96%   \n",
       "File System Output                               3617528   \n",
       "Major Page Fault                                      34   \n",
       "Involunteer Context Switch                       3288712   \n",
       "Command                     vcf2tiledb compute-2-24.json   \n",
       "Wall Clock (sec)                                  788.44   \n",
       "Exit Code                                              0   \n",
       "Minor Page Fault                                 1375677   \n",
       "\n",
       "                                                  TEST_5  \\\n",
       "File System Input                                   4509   \n",
       "Volunteer Context Switch                           19484   \n",
       "CPU %                                                95%   \n",
       "File System Output                               3618976   \n",
       "Major Page Fault                                      34   \n",
       "Involunteer Context Switch                       3288432   \n",
       "Command                     vcf2tiledb compute-2-29.json   \n",
       "Wall Clock (sec)                                  790.63   \n",
       "Exit Code                                              0   \n",
       "Minor Page Fault                                 1333319   \n",
       "\n",
       "                                                  TEST_6  \\\n",
       "File System Input                                   4607   \n",
       "Volunteer Context Switch                           13644   \n",
       "CPU %                                                96%   \n",
       "File System Output                               3617736   \n",
       "Major Page Fault                                      34   \n",
       "Involunteer Context Switch                       3289352   \n",
       "Command                     vcf2tiledb compute-2-23.json   \n",
       "Wall Clock (sec)                                  803.15   \n",
       "Exit Code                                              0   \n",
       "Minor Page Fault                                 1357800   \n",
       "\n",
       "                                                  TEST_7  \\\n",
       "File System Input                                   5074   \n",
       "Volunteer Context Switch                           14509   \n",
       "CPU %                                                95%   \n",
       "File System Output                               3618176   \n",
       "Major Page Fault                                      32   \n",
       "Involunteer Context Switch                       3289632   \n",
       "Command                     vcf2tiledb compute-2-22.json   \n",
       "Wall Clock (sec)                                  816.69   \n",
       "Exit Code                                              0   \n",
       "Minor Page Fault                                 1327783   \n",
       "\n",
       "                                                  TEST_8  \n",
       "File System Input                                   4503  \n",
       "Volunteer Context Switch                           23769  \n",
       "CPU %                                                95%  \n",
       "File System Output                               3618160  \n",
       "Major Page Fault                                      33  \n",
       "Involunteer Context Switch                       3288792  \n",
       "Command                     vcf2tiledb compute-2-25.json  \n",
       "Wall Clock (sec)                                  828.39  \n",
       "Exit Code                                              0  \n",
       "Minor Page Fault                                 1357598  "
      ]
     },
     "execution_count": 6,
     "metadata": {},
     "output_type": "execute_result"
    }
   ],
   "source": [
    "time_results, col_header = data_preparer.get_time_result(runid)\n",
    "print(\"==== command /usr/bin/time result for run %d ====\" % runid)\n",
    "pd.DataFrame.from_items(pd.Series(time_results),orient='index', columns=col_header)"
   ]
  },
  {
   "cell_type": "code",
   "execution_count": 8,
   "metadata": {
    "collapsed": false
   },
   "outputs": [
    {
     "name": "stdout",
     "output_type": "stream",
     "text": [
      "==== command /usr/bin/vcf2tiledb result for run 6 Test 1 ====\n"
     ]
    },
    {
     "data": {
      "text/html": [
       "<div>\n",
       "<table border=\"1\" class=\"dataframe\">\n",
       "  <thead>\n",
       "    <tr style=\"text-align: right;\">\n",
       "      <th></th>\n",
       "      <th>Wall-clock time(s)</th>\n",
       "      <th>Cpu time(s)</th>\n",
       "      <th>Critical path wall-clock time(s)</th>\n",
       "      <th>Critical path Cpu time(s)</th>\n",
       "      <th>#critical path</th>\n",
       "    </tr>\n",
       "  </thead>\n",
       "  <tbody>\n",
       "    <tr>\n",
       "      <th>Fetch from VCF</th>\n",
       "      <td>269.031</td>\n",
       "      <td>263.515</td>\n",
       "      <td>225.84</td>\n",
       "      <td>220.333</td>\n",
       "      <td>70091</td>\n",
       "    </tr>\n",
       "    <tr>\n",
       "      <th>Combining Cells</th>\n",
       "      <td>457.678</td>\n",
       "      <td>454.875</td>\n",
       "      <td>422.104</td>\n",
       "      <td>419.317</td>\n",
       "      <td>16023</td>\n",
       "    </tr>\n",
       "    <tr>\n",
       "      <th>Flush Output</th>\n",
       "      <td>0</td>\n",
       "      <td>0</td>\n",
       "      <td>0</td>\n",
       "      <td>0</td>\n",
       "      <td>0</td>\n",
       "    </tr>\n",
       "    <tr>\n",
       "      <th>sections time</th>\n",
       "      <td>726.759</td>\n",
       "      <td>718.487</td>\n",
       "      <td>0</td>\n",
       "      <td>0</td>\n",
       "      <td>0</td>\n",
       "    </tr>\n",
       "    <tr>\n",
       "      <th>time in single thread phase()</th>\n",
       "      <td>0.040972</td>\n",
       "      <td>0.0416879</td>\n",
       "      <td>0</td>\n",
       "      <td>0</td>\n",
       "      <td>0</td>\n",
       "    </tr>\n",
       "    <tr>\n",
       "      <th>time in read_all()</th>\n",
       "      <td>726.856</td>\n",
       "      <td>718.584</td>\n",
       "      <td>0</td>\n",
       "      <td>0</td>\n",
       "      <td>0</td>\n",
       "    </tr>\n",
       "  </tbody>\n",
       "</table>\n",
       "</div>"
      ],
      "text/plain": [
       "                              Wall-clock time(s) Cpu time(s)  \\\n",
       "Fetch from VCF                           269.031     263.515   \n",
       "Combining Cells                          457.678     454.875   \n",
       "Flush Output                                   0           0   \n",
       "sections time                            726.759     718.487   \n",
       "time in single thread phase()           0.040972   0.0416879   \n",
       "time in read_all()                       726.856     718.584   \n",
       "\n",
       "                              Critical path wall-clock time(s)  \\\n",
       "Fetch from VCF                                          225.84   \n",
       "Combining Cells                                        422.104   \n",
       "Flush Output                                                 0   \n",
       "sections time                                                0   \n",
       "time in single thread phase()                                0   \n",
       "time in read_all()                                           0   \n",
       "\n",
       "                              Critical path Cpu time(s) #critical path  \n",
       "Fetch from VCF                                  220.333          70091  \n",
       "Combining Cells                                 419.317          16023  \n",
       "Flush Output                                          0              0  \n",
       "sections time                                         0              0  \n",
       "time in single thread phase()                         0              0  \n",
       "time in read_all()                                    0              0  "
      ]
     },
     "execution_count": 8,
     "metadata": {},
     "output_type": "execute_result"
    }
   ],
   "source": [
    "gen_data, col_header = data_preparer.get_genome_results(6, 'TEST_1')\n",
    "print(\"==== command /usr/bin/vcf2tiledb result for run %d Test 1 ====\" % runid)\n",
    "pd.DataFrame.from_items(pd.Series(gen_data),orient='index', columns=col_header)"
   ]
  },
  {
   "cell_type": "code",
   "execution_count": 10,
   "metadata": {
    "collapsed": false
   },
   "outputs": [
    {
     "name": "stdout",
     "output_type": "stream",
     "text": [
      "==== command /usr/bin/vcf2tiledb result for run 6 Test 2 ====\n"
     ]
    },
    {
     "data": {
      "text/html": [
       "<div>\n",
       "<table border=\"1\" class=\"dataframe\">\n",
       "  <thead>\n",
       "    <tr style=\"text-align: right;\">\n",
       "      <th></th>\n",
       "      <th>Wall-clock time(s)</th>\n",
       "      <th>Cpu time(s)</th>\n",
       "      <th>Critical path wall-clock time(s)</th>\n",
       "      <th>Critical path Cpu time(s)</th>\n",
       "      <th>#critical path</th>\n",
       "    </tr>\n",
       "  </thead>\n",
       "  <tbody>\n",
       "    <tr>\n",
       "      <th>Fetch from VCF</th>\n",
       "      <td>267.225</td>\n",
       "      <td>261.299</td>\n",
       "      <td>260.032</td>\n",
       "      <td>254.111</td>\n",
       "      <td>83265</td>\n",
       "    </tr>\n",
       "    <tr>\n",
       "      <th>Combining Cells</th>\n",
       "      <td>446.642</td>\n",
       "      <td>446.011</td>\n",
       "      <td>396.387</td>\n",
       "      <td>395.779</td>\n",
       "      <td>2849</td>\n",
       "    </tr>\n",
       "    <tr>\n",
       "      <th>Flush Output</th>\n",
       "      <td>0</td>\n",
       "      <td>0</td>\n",
       "      <td>0</td>\n",
       "      <td>0</td>\n",
       "      <td>0</td>\n",
       "    </tr>\n",
       "    <tr>\n",
       "      <th>sections time</th>\n",
       "      <td>713.918</td>\n",
       "      <td>707.405</td>\n",
       "      <td>0</td>\n",
       "      <td>0</td>\n",
       "      <td>0</td>\n",
       "    </tr>\n",
       "    <tr>\n",
       "      <th>time in single thread phase()</th>\n",
       "      <td>0.040097</td>\n",
       "      <td>0.0404672</td>\n",
       "      <td>0</td>\n",
       "      <td>0</td>\n",
       "      <td>0</td>\n",
       "    </tr>\n",
       "    <tr>\n",
       "      <th>time in read_all()</th>\n",
       "      <td>714.011</td>\n",
       "      <td>707.498</td>\n",
       "      <td>0</td>\n",
       "      <td>0</td>\n",
       "      <td>0</td>\n",
       "    </tr>\n",
       "  </tbody>\n",
       "</table>\n",
       "</div>"
      ],
      "text/plain": [
       "                              Wall-clock time(s) Cpu time(s)  \\\n",
       "Fetch from VCF                           267.225     261.299   \n",
       "Combining Cells                          446.642     446.011   \n",
       "Flush Output                                   0           0   \n",
       "sections time                            713.918     707.405   \n",
       "time in single thread phase()           0.040097   0.0404672   \n",
       "time in read_all()                       714.011     707.498   \n",
       "\n",
       "                              Critical path wall-clock time(s)  \\\n",
       "Fetch from VCF                                         260.032   \n",
       "Combining Cells                                        396.387   \n",
       "Flush Output                                                 0   \n",
       "sections time                                                0   \n",
       "time in single thread phase()                                0   \n",
       "time in read_all()                                           0   \n",
       "\n",
       "                              Critical path Cpu time(s) #critical path  \n",
       "Fetch from VCF                                  254.111          83265  \n",
       "Combining Cells                                 395.779           2849  \n",
       "Flush Output                                          0              0  \n",
       "sections time                                         0              0  \n",
       "time in single thread phase()                         0              0  \n",
       "time in read_all()                                    0              0  "
      ]
     },
     "execution_count": 10,
     "metadata": {},
     "output_type": "execute_result"
    }
   ],
   "source": [
    "gen_data, col_header = data_preparer.get_genome_results(6, 'TEST_2')\n",
    "print(\"==== command /usr/bin/vcf2tiledb result for run %d Test 2 ====\" % runid)\n",
    "pd.DataFrame.from_items(pd.Series(gen_data),orient='index', columns=col_header)"
   ]
  },
  {
   "cell_type": "code",
   "execution_count": 11,
   "metadata": {
    "collapsed": false,
    "scrolled": true
   },
   "outputs": [
    {
     "name": "stdout",
     "output_type": "stream",
     "text": [
      "==== command /usr/bin/vcf2tiledb result for run 6 Test 3 ====\n"
     ]
    },
    {
     "data": {
      "text/html": [
       "<div>\n",
       "<table border=\"1\" class=\"dataframe\">\n",
       "  <thead>\n",
       "    <tr style=\"text-align: right;\">\n",
       "      <th></th>\n",
       "      <th>Wall-clock time(s)</th>\n",
       "      <th>Cpu time(s)</th>\n",
       "      <th>Critical path wall-clock time(s)</th>\n",
       "      <th>Critical path Cpu time(s)</th>\n",
       "      <th>#critical path</th>\n",
       "    </tr>\n",
       "  </thead>\n",
       "  <tbody>\n",
       "    <tr>\n",
       "      <th>Fetch from VCF</th>\n",
       "      <td>297.648</td>\n",
       "      <td>292.026</td>\n",
       "      <td>285.556</td>\n",
       "      <td>279.944</td>\n",
       "      <td>822223</td>\n",
       "    </tr>\n",
       "    <tr>\n",
       "      <th>Combining Cells</th>\n",
       "      <td>454.106</td>\n",
       "      <td>452.735</td>\n",
       "      <td>411.571</td>\n",
       "      <td>410.248</td>\n",
       "      <td>40746</td>\n",
       "    </tr>\n",
       "    <tr>\n",
       "      <th>Flush Output</th>\n",
       "      <td>0</td>\n",
       "      <td>0</td>\n",
       "      <td>0</td>\n",
       "      <td>0</td>\n",
       "      <td>0</td>\n",
       "    </tr>\n",
       "    <tr>\n",
       "      <th>sections time</th>\n",
       "      <td>752.234</td>\n",
       "      <td>745.518</td>\n",
       "      <td>0</td>\n",
       "      <td>0</td>\n",
       "      <td>0</td>\n",
       "    </tr>\n",
       "    <tr>\n",
       "      <th>time in single thread phase()</th>\n",
       "      <td>0.365482</td>\n",
       "      <td>0.369671</td>\n",
       "      <td>0</td>\n",
       "      <td>0</td>\n",
       "      <td>0</td>\n",
       "    </tr>\n",
       "    <tr>\n",
       "      <th>time in read_all()</th>\n",
       "      <td>753.133</td>\n",
       "      <td>746.413</td>\n",
       "      <td>0</td>\n",
       "      <td>0</td>\n",
       "      <td>0</td>\n",
       "    </tr>\n",
       "  </tbody>\n",
       "</table>\n",
       "</div>"
      ],
      "text/plain": [
       "                              Wall-clock time(s) Cpu time(s)  \\\n",
       "Fetch from VCF                           297.648     292.026   \n",
       "Combining Cells                          454.106     452.735   \n",
       "Flush Output                                   0           0   \n",
       "sections time                            752.234     745.518   \n",
       "time in single thread phase()           0.365482    0.369671   \n",
       "time in read_all()                       753.133     746.413   \n",
       "\n",
       "                              Critical path wall-clock time(s)  \\\n",
       "Fetch from VCF                                         285.556   \n",
       "Combining Cells                                        411.571   \n",
       "Flush Output                                                 0   \n",
       "sections time                                                0   \n",
       "time in single thread phase()                                0   \n",
       "time in read_all()                                           0   \n",
       "\n",
       "                              Critical path Cpu time(s) #critical path  \n",
       "Fetch from VCF                                  279.944         822223  \n",
       "Combining Cells                                 410.248          40746  \n",
       "Flush Output                                          0              0  \n",
       "sections time                                         0              0  \n",
       "time in single thread phase()                         0              0  \n",
       "time in read_all()                                    0              0  "
      ]
     },
     "execution_count": 11,
     "metadata": {},
     "output_type": "execute_result"
    }
   ],
   "source": [
    "gen_data, col_header = data_preparer.get_genome_results(6, 'TEST_6')\n",
    "print(\"==== command /usr/bin/vcf2tiledb result for run %d Test 3 ====\" % runid)\n",
    "pd.DataFrame.from_items(pd.Series(gen_data),orient='index', columns=col_header)"
   ]
  },
  {
   "cell_type": "code",
   "execution_count": null,
   "metadata": {
    "collapsed": false
   },
   "outputs": [],
   "source": [
    "gen_data, col_header = data_preparer.get_genome_results(6, 'TEST_4')\n",
    "print(\"==== command /usr/bin/vcf2tiledb result for run %d Test 4 ====\" % runid)\n",
    "pd.DataFrame.from_items(pd.Series(gen_data),orient='index', columns=col_header)"
   ]
  },
  {
   "cell_type": "code",
   "execution_count": 51,
   "metadata": {
    "collapsed": false
   },
   "outputs": [
    {
     "ename": "NameError",
     "evalue": "name 'data_preparer' is not defined",
     "output_type": "error",
     "traceback": [
      "\u001b[0;31m---------------------------------------------------------------------------\u001b[0m",
      "\u001b[0;31mNameError\u001b[0m                                 Traceback (most recent call last)",
      "\u001b[0;32m<ipython-input-51-dd17fbf272f1>\u001b[0m in \u001b[0;36m<module>\u001b[0;34m()\u001b[0m\n\u001b[1;32m      1\u001b[0m \u001b[1;32mimport\u001b[0m \u001b[0mpandas\u001b[0m \u001b[1;32mas\u001b[0m \u001b[0mpd\u001b[0m\u001b[1;33m\u001b[0m\u001b[0m\n\u001b[1;32m      2\u001b[0m \u001b[1;32mimport\u001b[0m \u001b[0mos\u001b[0m\u001b[1;33m,\u001b[0m \u001b[0mos\u001b[0m\u001b[1;33m.\u001b[0m\u001b[0mpath\u001b[0m\u001b[1;33m\u001b[0m\u001b[0m\n\u001b[0;32m----> 3\u001b[0;31m \u001b[0mstat_files\u001b[0m \u001b[1;33m=\u001b[0m \u001b[0mdata_preparer\u001b[0m\u001b[1;33m.\u001b[0m\u001b[0mget_pidstats\u001b[0m\u001b[1;33m(\u001b[0m\u001b[0mrunid\u001b[0m\u001b[1;33m)\u001b[0m\u001b[1;33m\u001b[0m\u001b[0m\n\u001b[0m\u001b[1;32m      4\u001b[0m \u001b[0mfn\u001b[0m \u001b[1;33m=\u001b[0m \u001b[0mos\u001b[0m\u001b[1;33m.\u001b[0m\u001b[0mpath\u001b[0m\u001b[1;33m.\u001b[0m\u001b[0mbasename\u001b[0m\u001b[1;33m(\u001b[0m\u001b[0mstat_files\u001b[0m\u001b[1;33m[\u001b[0m\u001b[1;36m0\u001b[0m\u001b[1;33m]\u001b[0m\u001b[1;33m[\u001b[0m\u001b[1;36m0\u001b[0m\u001b[1;33m]\u001b[0m\u001b[1;33m)\u001b[0m\u001b[1;33m\u001b[0m\u001b[0m\n\u001b[1;32m      5\u001b[0m \u001b[0mfn\u001b[0m \u001b[1;33m=\u001b[0m \u001b[0mos\u001b[0m\u001b[1;33m.\u001b[0m\u001b[0mpath\u001b[0m\u001b[1;33m.\u001b[0m\u001b[0mjoin\u001b[0m\u001b[1;33m(\u001b[0m\u001b[0mos\u001b[0m\u001b[1;33m.\u001b[0m\u001b[0mgetcwd\u001b[0m\u001b[1;33m(\u001b[0m\u001b[1;33m)\u001b[0m\u001b[1;33m,\u001b[0m \u001b[1;34m\"stats\"\u001b[0m\u001b[1;33m,\u001b[0m \u001b[0mfn\u001b[0m\u001b[1;33m)\u001b[0m\u001b[1;33m\u001b[0m\u001b[0m\n",
      "\u001b[0;31mNameError\u001b[0m: name 'data_preparer' is not defined"
     ]
    }
   ],
   "source": [
    "import pandas as pd\n",
    "import os, os.path\n",
    "#stat_files = data_preparer.get_pidstats(runid)\n",
    "fn = os.path.basename(stat_files[0][0])\n",
    "fn = os.path.join(os.getcwd(), \"stats\", fn)\n",
    "fn=\"C:\\\\Users\\\\mrutarx\\\\myprojects\\\\dev\\\\view_results\\\\stats\\\\35-1702281424_2-27_pid_135560.cvs\""
   ]
  },
  {
   "cell_type": "code",
   "execution_count": 61,
   "metadata": {
    "collapsed": false,
    "scrolled": false
   },
   "outputs": [
    {
     "data": {
      "text/html": [
       "<div>\n",
       "<table border=\"1\" class=\"dataframe\">\n",
       "  <thead>\n",
       "    <tr style=\"text-align: right;\">\n",
       "      <th></th>\n",
       "      <th>%CPU</th>\n",
       "      <th>CPU</th>\n",
       "      <th>%MEM</th>\n",
       "      <th>kB_rd/s</th>\n",
       "      <th>kB_wr/s</th>\n",
       "      <th>nvcswch/s</th>\n",
       "    </tr>\n",
       "    <tr>\n",
       "      <th>Time</th>\n",
       "      <th></th>\n",
       "      <th></th>\n",
       "      <th></th>\n",
       "      <th></th>\n",
       "      <th></th>\n",
       "      <th></th>\n",
       "    </tr>\n",
       "  </thead>\n",
       "  <tbody>\n",
       "    <tr>\n",
       "      <th>1490115504</th>\n",
       "      <td>0.86</td>\n",
       "      <td>5</td>\n",
       "      <td>0.02</td>\n",
       "      <td>208.0</td>\n",
       "      <td>7388.0</td>\n",
       "      <td>0.0</td>\n",
       "    </tr>\n",
       "    <tr>\n",
       "      <th>1490115505</th>\n",
       "      <td>0.86</td>\n",
       "      <td>5</td>\n",
       "      <td>0.02</td>\n",
       "      <td>0.0</td>\n",
       "      <td>28660.0</td>\n",
       "      <td>0.0</td>\n",
       "    </tr>\n",
       "    <tr>\n",
       "      <th>1490115506</th>\n",
       "      <td>0.00</td>\n",
       "      <td>5</td>\n",
       "      <td>0.02</td>\n",
       "      <td>0.0</td>\n",
       "      <td>0.0</td>\n",
       "      <td>0.0</td>\n",
       "    </tr>\n",
       "    <tr>\n",
       "      <th>1490115507</th>\n",
       "      <td>0.02</td>\n",
       "      <td>5</td>\n",
       "      <td>0.02</td>\n",
       "      <td>0.0</td>\n",
       "      <td>0.0</td>\n",
       "      <td>0.0</td>\n",
       "    </tr>\n",
       "    <tr>\n",
       "      <th>1490115508</th>\n",
       "      <td>0.02</td>\n",
       "      <td>5</td>\n",
       "      <td>0.02</td>\n",
       "      <td>0.0</td>\n",
       "      <td>4.0</td>\n",
       "      <td>0.0</td>\n",
       "    </tr>\n",
       "    <tr>\n",
       "      <th>1490115509</th>\n",
       "      <td>0.50</td>\n",
       "      <td>5</td>\n",
       "      <td>0.03</td>\n",
       "      <td>44.0</td>\n",
       "      <td>0.0</td>\n",
       "      <td>0.0</td>\n",
       "    </tr>\n",
       "    <tr>\n",
       "      <th>1490115510</th>\n",
       "      <td>2.07</td>\n",
       "      <td>5</td>\n",
       "      <td>0.14</td>\n",
       "      <td>904.0</td>\n",
       "      <td>0.0</td>\n",
       "      <td>0.0</td>\n",
       "    </tr>\n",
       "    <tr>\n",
       "      <th>1490115511</th>\n",
       "      <td>1.93</td>\n",
       "      <td>5</td>\n",
       "      <td>0.14</td>\n",
       "      <td>3780.0</td>\n",
       "      <td>0.0</td>\n",
       "      <td>0.0</td>\n",
       "    </tr>\n",
       "    <tr>\n",
       "      <th>1490115512</th>\n",
       "      <td>1.37</td>\n",
       "      <td>5</td>\n",
       "      <td>0.14</td>\n",
       "      <td>240.0</td>\n",
       "      <td>0.0</td>\n",
       "      <td>0.0</td>\n",
       "    </tr>\n",
       "    <tr>\n",
       "      <th>1490115513</th>\n",
       "      <td>2.27</td>\n",
       "      <td>5</td>\n",
       "      <td>0.15</td>\n",
       "      <td>0.0</td>\n",
       "      <td>0.0</td>\n",
       "      <td>0.0</td>\n",
       "    </tr>\n",
       "  </tbody>\n",
       "</table>\n",
       "</div>"
      ],
      "text/plain": [
       "            %CPU  CPU  %MEM  kB_rd/s  kB_wr/s  nvcswch/s\n",
       "Time                                                    \n",
       "1490115504  0.86    5  0.02    208.0   7388.0        0.0\n",
       "1490115505  0.86    5  0.02      0.0  28660.0        0.0\n",
       "1490115506  0.00    5  0.02      0.0      0.0        0.0\n",
       "1490115507  0.02    5  0.02      0.0      0.0        0.0\n",
       "1490115508  0.02    5  0.02      0.0      4.0        0.0\n",
       "1490115509  0.50    5  0.03     44.0      0.0        0.0\n",
       "1490115510  2.07    5  0.14    904.0      0.0        0.0\n",
       "1490115511  1.93    5  0.14   3780.0      0.0        0.0\n",
       "1490115512  1.37    5  0.14    240.0      0.0        0.0\n",
       "1490115513  2.27    5  0.15      0.0      0.0        0.0"
      ]
     },
     "execution_count": 61,
     "metadata": {},
     "output_type": "execute_result"
    }
   ],
   "source": [
    "import pandas as pd\n",
    "import os, os.path\n",
    "from pprint import pprint\n",
    "STATS_HEADS = [\"%MEM\", \"kB_rd/s\", \"kB_wr/s\"]\n",
    "proc_stat.head(10)\n"
   ]
  },
  {
   "cell_type": "code",
   "execution_count": 62,
   "metadata": {
    "collapsed": false
   },
   "outputs": [
    {
     "data": {
      "text/html": [
       "<div>\n",
       "<table border=\"1\" class=\"dataframe\">\n",
       "  <thead>\n",
       "    <tr style=\"text-align: right;\">\n",
       "      <th></th>\n",
       "      <th>%CPU</th>\n",
       "      <th>CPU</th>\n",
       "      <th>%MEM</th>\n",
       "      <th>kB_rd/s</th>\n",
       "      <th>kB_wr/s</th>\n",
       "      <th>nvcswch/s</th>\n",
       "    </tr>\n",
       "    <tr>\n",
       "      <th>Time</th>\n",
       "      <th></th>\n",
       "      <th></th>\n",
       "      <th></th>\n",
       "      <th></th>\n",
       "      <th></th>\n",
       "      <th></th>\n",
       "    </tr>\n",
       "  </thead>\n",
       "  <tbody>\n",
       "    <tr>\n",
       "      <th>1490115507</th>\n",
       "      <td>0.02</td>\n",
       "      <td>5</td>\n",
       "      <td>0.02</td>\n",
       "      <td>0.0</td>\n",
       "      <td>0.0</td>\n",
       "      <td>0.0</td>\n",
       "    </tr>\n",
       "    <tr>\n",
       "      <th>1490115508</th>\n",
       "      <td>0.02</td>\n",
       "      <td>5</td>\n",
       "      <td>0.02</td>\n",
       "      <td>0.0</td>\n",
       "      <td>4.0</td>\n",
       "      <td>0.0</td>\n",
       "    </tr>\n",
       "    <tr>\n",
       "      <th>1490115509</th>\n",
       "      <td>0.50</td>\n",
       "      <td>5</td>\n",
       "      <td>0.03</td>\n",
       "      <td>44.0</td>\n",
       "      <td>0.0</td>\n",
       "      <td>0.0</td>\n",
       "    </tr>\n",
       "    <tr>\n",
       "      <th>1490115510</th>\n",
       "      <td>2.07</td>\n",
       "      <td>5</td>\n",
       "      <td>0.14</td>\n",
       "      <td>904.0</td>\n",
       "      <td>0.0</td>\n",
       "      <td>0.0</td>\n",
       "    </tr>\n",
       "    <tr>\n",
       "      <th>1490115511</th>\n",
       "      <td>1.93</td>\n",
       "      <td>5</td>\n",
       "      <td>0.14</td>\n",
       "      <td>3780.0</td>\n",
       "      <td>0.0</td>\n",
       "      <td>0.0</td>\n",
       "    </tr>\n",
       "  </tbody>\n",
       "</table>\n",
       "</div>"
      ],
      "text/plain": [
       "            %CPU  CPU  %MEM  kB_rd/s  kB_wr/s  nvcswch/s\n",
       "Time                                                    \n",
       "1490115507  0.02    5  0.02      0.0      0.0        0.0\n",
       "1490115508  0.02    5  0.02      0.0      4.0        0.0\n",
       "1490115509  0.50    5  0.03     44.0      0.0        0.0\n",
       "1490115510  2.07    5  0.14    904.0      0.0        0.0\n",
       "1490115511  1.93    5  0.14   3780.0      0.0        0.0"
      ]
     },
     "execution_count": 62,
     "metadata": {},
     "output_type": "execute_result"
    }
   ],
   "source": [
    "aa = proc_stat[3:]\n",
    "aa.head()"
   ]
  },
  {
   "cell_type": "code",
   "execution_count": 59,
   "metadata": {
    "collapsed": false,
    "scrolled": true
   },
   "outputs": [
    {
     "data": {
      "text/html": [
       "<div>\n",
       "<table border=\"1\" class=\"dataframe\">\n",
       "  <thead>\n",
       "    <tr style=\"text-align: right;\">\n",
       "      <th></th>\n",
       "      <th>%CPU</th>\n",
       "      <th>CPU</th>\n",
       "      <th>%MEM</th>\n",
       "      <th>kB_rd/s</th>\n",
       "      <th>kB_wr/s</th>\n",
       "      <th>nvcswch/s</th>\n",
       "    </tr>\n",
       "    <tr>\n",
       "      <th>Time</th>\n",
       "      <th></th>\n",
       "      <th></th>\n",
       "      <th></th>\n",
       "      <th></th>\n",
       "      <th></th>\n",
       "      <th></th>\n",
       "    </tr>\n",
       "  </thead>\n",
       "  <tbody>\n",
       "    <tr>\n",
       "      <th>1490117713</th>\n",
       "      <td>2.25</td>\n",
       "      <td>5</td>\n",
       "      <td>0.33</td>\n",
       "      <td>0.0</td>\n",
       "      <td>0.0</td>\n",
       "      <td>0.0</td>\n",
       "    </tr>\n",
       "    <tr>\n",
       "      <th>1490117714</th>\n",
       "      <td>2.29</td>\n",
       "      <td>5</td>\n",
       "      <td>0.33</td>\n",
       "      <td>0.0</td>\n",
       "      <td>0.0</td>\n",
       "      <td>0.0</td>\n",
       "    </tr>\n",
       "    <tr>\n",
       "      <th>1490117715</th>\n",
       "      <td>2.27</td>\n",
       "      <td>5</td>\n",
       "      <td>0.33</td>\n",
       "      <td>0.0</td>\n",
       "      <td>0.0</td>\n",
       "      <td>0.0</td>\n",
       "    </tr>\n",
       "    <tr>\n",
       "      <th>1490117716</th>\n",
       "      <td>2.27</td>\n",
       "      <td>5</td>\n",
       "      <td>0.33</td>\n",
       "      <td>0.0</td>\n",
       "      <td>0.0</td>\n",
       "      <td>0.0</td>\n",
       "    </tr>\n",
       "    <tr>\n",
       "      <th>1490117717</th>\n",
       "      <td>2.27</td>\n",
       "      <td>5</td>\n",
       "      <td>0.33</td>\n",
       "      <td>0.0</td>\n",
       "      <td>0.0</td>\n",
       "      <td>0.0</td>\n",
       "    </tr>\n",
       "    <tr>\n",
       "      <th>1490117718</th>\n",
       "      <td>2.27</td>\n",
       "      <td>5</td>\n",
       "      <td>0.33</td>\n",
       "      <td>0.0</td>\n",
       "      <td>0.0</td>\n",
       "      <td>0.0</td>\n",
       "    </tr>\n",
       "  </tbody>\n",
       "</table>\n",
       "</div>"
      ],
      "text/plain": [
       "            %CPU  CPU  %MEM  kB_rd/s  kB_wr/s  nvcswch/s\n",
       "Time                                                    \n",
       "1490117713  2.25    5  0.33      0.0      0.0        0.0\n",
       "1490117714  2.29    5  0.33      0.0      0.0        0.0\n",
       "1490117715  2.27    5  0.33      0.0      0.0        0.0\n",
       "1490117716  2.27    5  0.33      0.0      0.0        0.0\n",
       "1490117717  2.27    5  0.33      0.0      0.0        0.0\n",
       "1490117718  2.27    5  0.33      0.0      0.0        0.0"
      ]
     },
     "execution_count": 59,
     "metadata": {},
     "output_type": "execute_result"
    }
   ],
   "source": [
    "proc_stat.tail(6)"
   ]
  },
  {
   "cell_type": "code",
   "execution_count": 60,
   "metadata": {
    "collapsed": false
   },
   "outputs": [
    {
     "data": {
      "text/html": [
       "<div>\n",
       "<table border=\"1\" class=\"dataframe\">\n",
       "  <thead>\n",
       "    <tr style=\"text-align: right;\">\n",
       "      <th></th>\n",
       "      <th>%CPU</th>\n",
       "      <th>CPU</th>\n",
       "      <th>%MEM</th>\n",
       "      <th>kB_rd/s</th>\n",
       "      <th>kB_wr/s</th>\n",
       "      <th>nvcswch/s</th>\n",
       "    </tr>\n",
       "    <tr>\n",
       "      <th>Time</th>\n",
       "      <th></th>\n",
       "      <th></th>\n",
       "      <th></th>\n",
       "      <th></th>\n",
       "      <th></th>\n",
       "      <th></th>\n",
       "    </tr>\n",
       "  </thead>\n",
       "  <tbody>\n",
       "    <tr>\n",
       "      <th>1490117711</th>\n",
       "      <td>2.27</td>\n",
       "      <td>5</td>\n",
       "      <td>0.33</td>\n",
       "      <td>0.0</td>\n",
       "      <td>0.0</td>\n",
       "      <td>0.0</td>\n",
       "    </tr>\n",
       "    <tr>\n",
       "      <th>1490117712</th>\n",
       "      <td>2.27</td>\n",
       "      <td>5</td>\n",
       "      <td>0.33</td>\n",
       "      <td>0.0</td>\n",
       "      <td>0.0</td>\n",
       "      <td>0.0</td>\n",
       "    </tr>\n",
       "    <tr>\n",
       "      <th>1490117713</th>\n",
       "      <td>2.25</td>\n",
       "      <td>5</td>\n",
       "      <td>0.33</td>\n",
       "      <td>0.0</td>\n",
       "      <td>0.0</td>\n",
       "      <td>0.0</td>\n",
       "    </tr>\n",
       "    <tr>\n",
       "      <th>1490117714</th>\n",
       "      <td>2.29</td>\n",
       "      <td>5</td>\n",
       "      <td>0.33</td>\n",
       "      <td>0.0</td>\n",
       "      <td>0.0</td>\n",
       "      <td>0.0</td>\n",
       "    </tr>\n",
       "    <tr>\n",
       "      <th>1490117715</th>\n",
       "      <td>2.27</td>\n",
       "      <td>5</td>\n",
       "      <td>0.33</td>\n",
       "      <td>0.0</td>\n",
       "      <td>0.0</td>\n",
       "      <td>0.0</td>\n",
       "    </tr>\n",
       "    <tr>\n",
       "      <th>1490117716</th>\n",
       "      <td>2.27</td>\n",
       "      <td>5</td>\n",
       "      <td>0.33</td>\n",
       "      <td>0.0</td>\n",
       "      <td>0.0</td>\n",
       "      <td>0.0</td>\n",
       "    </tr>\n",
       "  </tbody>\n",
       "</table>\n",
       "</div>"
      ],
      "text/plain": [
       "            %CPU  CPU  %MEM  kB_rd/s  kB_wr/s  nvcswch/s\n",
       "Time                                                    \n",
       "1490117711  2.27    5  0.33      0.0      0.0        0.0\n",
       "1490117712  2.27    5  0.33      0.0      0.0        0.0\n",
       "1490117713  2.25    5  0.33      0.0      0.0        0.0\n",
       "1490117714  2.29    5  0.33      0.0      0.0        0.0\n",
       "1490117715  2.27    5  0.33      0.0      0.0        0.0\n",
       "1490117716  2.27    5  0.33      0.0      0.0        0.0"
      ]
     },
     "execution_count": 60,
     "metadata": {},
     "output_type": "execute_result"
    }
   ],
   "source": [
    "bb=proc_stat[:-2]\n",
    "bb.tail(6)"
   ]
  },
  {
   "cell_type": "code",
   "execution_count": 26,
   "metadata": {
    "collapsed": false
   },
   "outputs": [
    {
     "name": "stdout",
     "output_type": "stream",
     "text": [
      "col=%MEM:\tmean=0.372735,  std=0.017111, cv=0.045907\n",
      "col=kB_rd/s:\tmean=236.837209,  std=1673.190661, cv=7.064729\n",
      "col=kB_wr/s:\tmean=20.522658,  std=847.766870, cv=41.308824\n"
     ]
    }
   ],
   "source": [
    "fn=\"C:\\\\Users\\\\mrutarx\\\\myprojects\\\\dev\\\\view_results\\\\vcf2tiledb-data\\\\VDA349\\\\stats\\\\17-610-compute-2-29_pid_41902.cvs\"\n",
    "proc_stat = pd.DataFrame.from_csv(fn)\n",
    "for col in STATS_HEADS:\n",
    "    mm = proc_stat[col].mean()\n",
    "    ms = proc_stat[col].std()\n",
    "    print(\"col=%s:\\tmean=%f,  std=%f, cv=%f\" % (col, mm, ms, ms/mm))"
   ]
  },
  {
   "cell_type": "code",
   "execution_count": 49,
   "metadata": {
    "collapsed": false
   },
   "outputs": [],
   "source": [
    "def printStats(pid, fn):\n",
    "    proc_stat = pd.DataFrame.from_csv(fn)\n",
    "    ddd = {'pid' : pid}\n",
    "    for col in STATS_HEADS:\n",
    "        ddd['%s_mean'%col] = proc_stat[col].mean()\n",
    "        ddd['%s_std'%col] = proc_stat[col].std()\n",
    "        ddd['%s_cv'%col] = proc_stat[col].std() / proc_stat[col].mean()\n",
    "    print(\"col=%s: %%MEM_mean=%s,%%MEM_std=%s, kB_rd/s_mean=%s,kB_rd/s_std=%s, kB_wr/s_mean=%s,kB_wr/s_std=%s,\" %(ddd['pid'],ddd['%MEM_mean'],ddd['%MEM_std'],ddd['kB_rd/s_mean'],ddd['kB_rd/s_std'],ddd['kB_wr/s_mean'],ddd['kB_wr/s_std'] ) )\n",
    "    "
   ]
  },
  {
   "cell_type": "code",
   "execution_count": 50,
   "metadata": {
    "collapsed": false,
    "scrolled": true
   },
   "outputs": [
    {
     "name": "stdout",
     "output_type": "stream",
     "text": [
      "col=41902: %MEM_mean=0.372735326689,%MEM_std=0.0171111323721, kB_rd/s_mean=236.837209302,kB_rd/s_std=1673.19066112, kB_wr/s_mean=20.5226578073,kB_wr/s_std=847.76686957,\n",
      "col=47965: %MEM_mean=0.31071364047,%MEM_std=0.0362029253876, kB_rd/s_mean=3.27732610659,kB_rd/s_std=86.9182051616, kB_wr/s_mean=16.8165492322,kB_wr/s_std=665.209585065,\n",
      "col=47966: %MEM_mean=0.361982836495,%MEM_std=0.0222502237562, kB_rd/s_mean=6.36495031617,kB_rd/s_std=188.749006839, kB_wr/s_mean=16.8364588979,kB_wr/s_std=665.907930571,\n",
      "col=47967: %MEM_mean=0.350130984643,%MEM_std=0.026237660491, kB_rd/s_mean=0.240289069557,kB_rd/s_std=8.60815842217, kB_wr/s_mean=16.8707497742,kB_wr/s_std=643.25752028,\n",
      "col=47977: %MEM_mean=0.36696928636,%MEM_std=0.0227718195714, kB_rd/s_mean=1.88256549232,kB_rd/s_std=59.0811762707, kB_wr/s_mean=16.8437217706,kB_wr/s_std=641.36493906,\n",
      "col=47979: %MEM_mean=0.356860885276,%MEM_std=0.0238564311102, kB_rd/s_mean=2.33785004517,kB_rd/s_std=82.8663940486, kB_wr/s_mean=16.8436856369,kB_wr/s_std=628.93265489,\n"
     ]
    }
   ],
   "source": [
    "printStats(41902,\"C:\\\\Users\\\\mrutarx\\\\myprojects\\\\dev\\\\view_results\\\\vcf2tiledb-data\\\\VDA349\\\\stats\\\\17-610-compute-2-29_pid_41902.cvs\")\n",
    "fnt=\"C:\\\\Users\\\\mrutarx\\\\myprojects\\\\dev\\\\view_results\\\\vcf2tiledb-data\\\\VDA349\\\\stats\\\\17-613-compute-2-29_pid_%s.cvs\"\n",
    "\n",
    "for pid in [47965, 47966,47967, 47977, 47979 ]:\n",
    "    printStats(pid, fnt % pid)"
   ]
  },
  {
   "cell_type": "code",
   "execution_count": null,
   "metadata": {
    "collapsed": true
   },
   "outputs": [],
   "source": []
  },
  {
   "cell_type": "code",
   "execution_count": null,
   "metadata": {
    "collapsed": true
   },
   "outputs": [],
   "source": []
  },
  {
   "cell_type": "code",
   "execution_count": null,
   "metadata": {
    "collapsed": true
   },
   "outputs": [],
   "source": []
  },
  {
   "cell_type": "code",
   "execution_count": 19,
   "metadata": {
    "collapsed": false
   },
   "outputs": [
    {
     "name": "stdout",
     "output_type": "stream",
     "text": [
      "stat of C:\\Users\\mrutarx\\myprojects\\dev\\view_results\\stats\\35-1702281424_2-27_pid_135560.cvs\n"
     ]
    },
    {
     "data": {
      "text/plain": [
       "<matplotlib.axes._subplots.AxesSubplot at 0xe183ccac8>"
      ]
     },
     "execution_count": 19,
     "metadata": {},
     "output_type": "execute_result"
    },
    {
     "data": {
      "text/plain": [
       "<matplotlib.figure.Figure at 0xe182fec18>"
      ]
     },
     "metadata": {},
     "output_type": "display_data"
    },
    {
     "data": {
      "image/png": "[encoded data removed]",
      "text/plain": [
       "<matplotlib.figure.Figure at 0xe182e5160>"
      ]
     },
     "metadata": {
      "image/png": {
       "height": 266,
       "width": 391
      }
     },
     "output_type": "display_data"
    }
   ],
   "source": [
    "print(\"stat of %s\" % fn)\n",
    "plt.figure(figsize=(40,30))\n",
    "proc_stat.plot()"
   ]
  },
  {
   "cell_type": "code",
   "execution_count": null,
   "metadata": {
    "collapsed": false
   },
   "outputs": [],
   "source": [
    "fn = os.path.basename(stat_files[1][0])\n",
    "fn = os.path.join(os.getcwd(), \"stats\", fn)\n",
    "print(\"stat of %s\" % fn)\n",
    "fproc_stat = pd.DataFrame.from_csv(fn)\n",
    "proc_stat.head()\n",
    "proc_stat.plot()"
   ]
  },
  {
   "cell_type": "code",
   "execution_count": null,
   "metadata": {
    "collapsed": false
   },
   "outputs": [],
   "source": [
    "fn = os.path.basename(stat_files[2][0])\n",
    "fn = os.path.join(os.getcwd(), \"stats\", fn)\n",
    "print(\"stat of %s\" % fn)\n",
    "fproc_stat = pd.DataFrame.from_csv(fn)\n",
    "proc_stat.head()\n",
    "proc_stat.plot()"
   ]
  },
  {
   "cell_type": "code",
   "execution_count": null,
   "metadata": {
    "collapsed": false
   },
   "outputs": [],
   "source": [
    "fn = os.path.basename(stat_files[3][0])\n",
    "fn = os.path.join(os.getcwd(), \"stats\", fn)\n",
    "print(\"stat of %s\" % fn)\n",
    "fproc_stat = pd.DataFrame.from_csv(fn)\n",
    "proc_stat.head()\n",
    "proc_stat.plot()"
   ]
  },
  {
   "cell_type": "code",
   "execution_count": 7,
   "metadata": {
    "collapsed": false
   },
   "outputs": [
    {
     "data": {
      "text/plain": [
       "['%MEM_avg',\n",
       " '%MEM_stddev',\n",
       " '%MEM_coeff',\n",
       " 'kB_rd/s_avg',\n",
       " 'kB_rd/s_stddev',\n",
       " 'kB_rd/s_coeff',\n",
       " 'kB_wr/s_avg',\n",
       " 'kB_wr/s_stddev',\n",
       " 'kB_wr/s_coeff']"
      ]
     },
     "execution_count": 7,
     "metadata": {},
     "output_type": "execute_result"
    }
   ],
   "source": [
    "STATS_HEADS = [\"%MEM\", \"kB_rd/s\", \"kB_wr/s\"]\n",
    "STATS_ATTR = [\"avg\", \"stddev\", \"coeff\"]\n",
    "stat_labels = []\n",
    "[ stat_labels.extend([ \"%s_%s\" % (st, att) for att in STATS_ATTR ] ) for st in STATS_HEADS ]\n",
    "stat_labels"
   ]
  },
  {
   "cell_type": "code",
   "execution_count": 5,
   "metadata": {
    "collapsed": false
   },
   "outputs": [
    {
     "data": {
      "text/plain": [
       "[['%MEM_avg', '%MEM_stddev', '%MEM_coeff'],\n",
       " ['kB_rd/s_avg', 'kB_rd/s_stddev', 'kB_rd/s_coeff'],\n",
       " ['kB_wr/s_avg', 'kB_wr/s_stddev', 'kB_wr/s_coeff']]"
      ]
     },
     "execution_count": 5,
     "metadata": {},
     "output_type": "execute_result"
    }
   ],
   "source": [
    "stat_labels"
   ]
  },
  {
   "cell_type": "code",
   "execution_count": null,
   "metadata": {
    "collapsed": true
   },
   "outputs": [],
   "source": []
  }
 ],
 "metadata": {
  "kernelspec": {
   "display_name": "Python 3",
   "language": "python",
   "name": "python3"
  },
  "language_info": {
   "codemirror_mode": {
    "name": "ipython",
    "version": 3
   },
   "file_extension": ".py",
   "mimetype": "text/x-python",
   "name": "python",
   "nbconvert_exporter": "python",
   "pygments_lexer": "ipython3",
   "version": "3.6.0"
  }
 },
 "nbformat": 4,
 "nbformat_minor": 2
}
