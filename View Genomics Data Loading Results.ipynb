{
 "cells": [
  {
   "cell_type": "markdown",
   "metadata": {},
   "source": [
    "### GenomicsDB Loading Testing"
   ]
  },
  {
   "cell_type": "code",
   "execution_count": 1,
   "metadata": {
    "collapsed": false
   },
   "outputs": [],
   "source": [
    "%matplotlib inline\n",
    "%config InlineBackend.figure_format = 'retina'\n",
    "\n",
    "import pandas as pd\n",
    "import result_handler as rh\n",
    "import matplotlib.pyplot as plt\n",
    "\n",
    "data_preparer = rh.TimeResultHandler()"
   ]
  },
  {
   "cell_type": "code",
   "execution_count": 7,
   "metadata": {
    "collapsed": false,
    "scrolled": true
   },
   "outputs": [
    {
     "name": "stdout",
     "output_type": "stream",
     "text": [
      "==== run is 6 user loader config ====\n"
     ]
    },
    {
     "data": {
      "text/html": [
       "<div>\n",
       "<table border=\"1\" class=\"dataframe\">\n",
       "  <thead>\n",
       "    <tr style=\"text-align: right;\">\n",
       "      <th></th>\n",
       "      <th>RUN_1</th>\n",
       "      <th>RUN_2</th>\n",
       "      <th>RUN_3</th>\n",
       "      <th>RUN_4</th>\n",
       "    </tr>\n",
       "  </thead>\n",
       "  <tbody>\n",
       "    <tr>\n",
       "      <th>column_partitions</th>\n",
       "      <td>20</td>\n",
       "      <td>20</td>\n",
       "      <td>20</td>\n",
       "      <td>20</td>\n",
       "    </tr>\n",
       "    <tr>\n",
       "      <th>size_per_column_partition</th>\n",
       "      <td>-</td>\n",
       "      <td>-</td>\n",
       "      <td>-</td>\n",
       "      <td>-</td>\n",
       "    </tr>\n",
       "    <tr>\n",
       "      <th>num_parallel_vcf_files</th>\n",
       "      <td>-</td>\n",
       "      <td>-</td>\n",
       "      <td>-</td>\n",
       "      <td>-</td>\n",
       "    </tr>\n",
       "    <tr>\n",
       "      <th>compress_tiledb_array</th>\n",
       "      <td>-</td>\n",
       "      <td>-</td>\n",
       "      <td>-</td>\n",
       "      <td>-</td>\n",
       "    </tr>\n",
       "    <tr>\n",
       "      <th>num_cells_per_tile</th>\n",
       "      <td>-</td>\n",
       "      <td>-</td>\n",
       "      <td>-</td>\n",
       "      <td>-</td>\n",
       "    </tr>\n",
       "    <tr>\n",
       "      <th>segment_size</th>\n",
       "      <td>-</td>\n",
       "      <td>1</td>\n",
       "      <td>[100, KB]</td>\n",
       "      <td>[10, KB]</td>\n",
       "    </tr>\n",
       "    <tr>\n",
       "      <th>do_ping_pong_buffering</th>\n",
       "      <td>False</td>\n",
       "      <td>-</td>\n",
       "      <td>-</td>\n",
       "      <td>-</td>\n",
       "    </tr>\n",
       "  </tbody>\n",
       "</table>\n",
       "</div>"
      ],
      "text/plain": [
       "                           RUN_1 RUN_2      RUN_3     RUN_4\n",
       "column_partitions             20    20         20        20\n",
       "size_per_column_partition      -     -          -         -\n",
       "num_parallel_vcf_files         -     -          -         -\n",
       "compress_tiledb_array          -     -          -         -\n",
       "num_cells_per_tile             -     -          -         -\n",
       "segment_size                   -     1  [100, KB]  [10, KB]\n",
       "do_ping_pong_buffering     False     -          -         -"
      ]
     },
     "execution_count": 7,
     "metadata": {},
     "output_type": "execute_result"
    }
   ],
   "source": [
    "runid, lc_config2, col_title2 = data_preparer.get_run_setting2()\n",
    "print(\"==== run is %d user loader config ====\" % runid)\n",
    "pd.DataFrame.from_items(pd.Series(lc_config2),orient='index', columns=col_title2)"
   ]
  },
  {
   "cell_type": "code",
   "execution_count": 4,
   "metadata": {
    "collapsed": false,
    "scrolled": true
   },
   "outputs": [
    {
     "name": "stdout",
     "output_type": "stream",
     "text": [
      "==== command time result for run 6 ====\n"
     ]
    },
    {
     "data": {
      "text/html": [
       "<div>\n",
       "<table border=\"1\" class=\"dataframe\">\n",
       "  <thead>\n",
       "    <tr style=\"text-align: right;\">\n",
       "      <th></th>\n",
       "      <th>RUN_1</th>\n",
       "      <th>RUN_2</th>\n",
       "      <th>RUN_3</th>\n",
       "      <th>RUN_4</th>\n",
       "    </tr>\n",
       "  </thead>\n",
       "  <tbody>\n",
       "    <tr>\n",
       "      <th>Wall Clock (sec)</th>\n",
       "      <td>629.33</td>\n",
       "      <td>633.14</td>\n",
       "      <td>639.29</td>\n",
       "      <td>659.96</td>\n",
       "    </tr>\n",
       "    <tr>\n",
       "      <th>CPU %</th>\n",
       "      <td>95%</td>\n",
       "      <td>95%</td>\n",
       "      <td>94%</td>\n",
       "      <td>94%</td>\n",
       "    </tr>\n",
       "    <tr>\n",
       "      <th>Major Page Fault</th>\n",
       "      <td>34</td>\n",
       "      <td>32</td>\n",
       "      <td>34</td>\n",
       "      <td>33</td>\n",
       "    </tr>\n",
       "    <tr>\n",
       "      <th>Minor Page Fault</th>\n",
       "      <td>2872840</td>\n",
       "      <td>2838514</td>\n",
       "      <td>2944321</td>\n",
       "      <td>2911310</td>\n",
       "    </tr>\n",
       "    <tr>\n",
       "      <th>File System Input</th>\n",
       "      <td>3205392</td>\n",
       "      <td>3205984</td>\n",
       "      <td>3205672</td>\n",
       "      <td>3206856</td>\n",
       "    </tr>\n",
       "    <tr>\n",
       "      <th>File System Output</th>\n",
       "      <td>2622296</td>\n",
       "      <td>2622488</td>\n",
       "      <td>2621640</td>\n",
       "      <td>2621784</td>\n",
       "    </tr>\n",
       "    <tr>\n",
       "      <th>Involunteer Context Switch</th>\n",
       "      <td>11663</td>\n",
       "      <td>11448</td>\n",
       "      <td>15313</td>\n",
       "      <td>20030</td>\n",
       "    </tr>\n",
       "    <tr>\n",
       "      <th>Volunteer Context Switch</th>\n",
       "      <td>4522</td>\n",
       "      <td>4587</td>\n",
       "      <td>4496</td>\n",
       "      <td>4527</td>\n",
       "    </tr>\n",
       "    <tr>\n",
       "      <th>Exit Code</th>\n",
       "      <td>0</td>\n",
       "      <td>0</td>\n",
       "      <td>0</td>\n",
       "      <td>0</td>\n",
       "    </tr>\n",
       "  </tbody>\n",
       "</table>\n",
       "</div>"
      ],
      "text/plain": [
       "                              RUN_1    RUN_2    RUN_3    RUN_4\n",
       "Wall Clock (sec)             629.33   633.14   639.29   659.96\n",
       "CPU %                           95%      95%      94%      94%\n",
       "Major Page Fault                 34       32       34       33\n",
       "Minor Page Fault            2872840  2838514  2944321  2911310\n",
       "File System Input           3205392  3205984  3205672  3206856\n",
       "File System Output          2622296  2622488  2621640  2621784\n",
       "Involunteer Context Switch    11663    11448    15313    20030\n",
       "Volunteer Context Switch       4522     4587     4496     4527\n",
       "Exit Code                         0        0        0        0"
      ]
     },
     "execution_count": 4,
     "metadata": {},
     "output_type": "execute_result"
    }
   ],
   "source": [
    "time_results, col_header = data_preparer.get_time_result(runid)\n",
    "print(\"==== command /usr/bin/time result for run %d ====\" % runid)\n",
    "pd.DataFrame.from_items(pd.Series(time_results),orient='index', columns=col_header)"
   ]
  },
  {
   "cell_type": "code",
   "execution_count": null,
   "metadata": {
    "collapsed": true
   },
   "outputs": [],
   "source": [
    "plt.plot(losses['train'], label='Training loss')\n",
    "plt.plot(losses['validation'], label='Validation loss')\n",
    "plt.legend()\n",
    "plt.xlim(0, 3500)\n",
    "plt.ylim(0, 1)"
   ]
  },
  {
   "cell_type": "code",
   "execution_count": 5,
   "metadata": {
    "collapsed": false,
    "scrolled": false
   },
   "outputs": [
    {
     "name": "stdout",
     "output_type": "stream",
     "text": [
      "==== run is 6 user loader config ====\n"
     ]
    },
    {
     "data": {
      "text/html": [
       "<div>\n",
       "<table border=\"1\" class=\"dataframe\">\n",
       "  <thead>\n",
       "    <tr style=\"text-align: right;\">\n",
       "      <th></th>\n",
       "      <th>column_partitions</th>\n",
       "      <th>size_per_column_partition</th>\n",
       "      <th>num_parallel_vcf_files</th>\n",
       "      <th>compress_tiledb_array</th>\n",
       "      <th>num_cells_per_tile</th>\n",
       "      <th>segment_size</th>\n",
       "      <th>do_ping_pong_buffering</th>\n",
       "    </tr>\n",
       "  </thead>\n",
       "  <tbody>\n",
       "    <tr>\n",
       "      <th>RUN_1</th>\n",
       "      <td>20</td>\n",
       "      <td>-</td>\n",
       "      <td>-</td>\n",
       "      <td>-</td>\n",
       "      <td>-</td>\n",
       "      <td>-</td>\n",
       "      <td>False</td>\n",
       "    </tr>\n",
       "    <tr>\n",
       "      <th>RUN_2</th>\n",
       "      <td>20</td>\n",
       "      <td>-</td>\n",
       "      <td>-</td>\n",
       "      <td>-</td>\n",
       "      <td>-</td>\n",
       "      <td>1</td>\n",
       "      <td>-</td>\n",
       "    </tr>\n",
       "    <tr>\n",
       "      <th>RUN_3</th>\n",
       "      <td>20</td>\n",
       "      <td>-</td>\n",
       "      <td>-</td>\n",
       "      <td>-</td>\n",
       "      <td>-</td>\n",
       "      <td>[100, 'KB']</td>\n",
       "      <td>-</td>\n",
       "    </tr>\n",
       "    <tr>\n",
       "      <th>RUN_4</th>\n",
       "      <td>20</td>\n",
       "      <td>-</td>\n",
       "      <td>-</td>\n",
       "      <td>-</td>\n",
       "      <td>-</td>\n",
       "      <td>[10, 'KB']</td>\n",
       "      <td>-</td>\n",
       "    </tr>\n",
       "  </tbody>\n",
       "</table>\n",
       "</div>"
      ],
      "text/plain": [
       "      column_partitions size_per_column_partition num_parallel_vcf_files  \\\n",
       "RUN_1                20                         -                      -   \n",
       "RUN_2                20                         -                      -   \n",
       "RUN_3                20                         -                      -   \n",
       "RUN_4                20                         -                      -   \n",
       "\n",
       "      compress_tiledb_array num_cells_per_tile segment_size  \\\n",
       "RUN_1                     -                  -            -   \n",
       "RUN_2                     -                  -            1   \n",
       "RUN_3                     -                  -  [100, 'KB']   \n",
       "RUN_4                     -                  -   [10, 'KB']   \n",
       "\n",
       "      do_ping_pong_buffering  \n",
       "RUN_1                  False  \n",
       "RUN_2                      -  \n",
       "RUN_3                      -  \n",
       "RUN_4                      -  "
      ]
     },
     "execution_count": 5,
     "metadata": {},
     "output_type": "execute_result"
    }
   ],
   "source": [
    "runid, lc_config, col_title = data_preparer.get_run_setting()\n",
    "print(\"==== run is %d user loader config ====\" % runid)\n",
    "pd.DataFrame.from_items(pd.Series(lc_config),orient='index', columns=col_title)"
   ]
  }
 ],
 "metadata": {
  "kernelspec": {
   "display_name": "Python 3",
   "language": "python",
   "name": "python3"
  },
  "language_info": {
   "codemirror_mode": {
    "name": "ipython",
    "version": 3
   },
   "file_extension": ".py",
   "mimetype": "text/x-python",
   "name": "python",
   "nbconvert_exporter": "python",
   "pygments_lexer": "ipython3",
   "version": "3.6.0"
  }
 },
 "nbformat": 4,
 "nbformat_minor": 2
}
